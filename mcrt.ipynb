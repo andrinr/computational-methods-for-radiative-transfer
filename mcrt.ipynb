{
 "cells": [
  {
   "cell_type": "markdown",
   "metadata": {},
   "source": [
    "# Monte Carlo Radiative Transfer\n",
    "\n",
    "## Background\n",
    "\n",
    "### Important Variables\n",
    "\n",
    "- Specific Intensity $I_v$ or $I(\\mathbf{x}, t, \\nu)$\n",
    "- $\\mathbf{x}$ position in space\n",
    "- $t$ time\n",
    "- $\\nu$ frequency\n",
    "- $\\chi$ opacity\n",
    "\n",
    "The radiative transfer equation describes the propagation of light through a medium. Let us start by assuming the light propagates through empty space then\n",
    "\n",
    "$$\n",
    "\\frac{dI_v}{ds} = 0\n",
    "$$\n",
    "\n",
    "where $I$ is the intensity of light and $s$ is the distance traveled. Let us add a radiation absorbing medium to the mix. The radiative transfer equation then becomes\n",
    "\n",
    "$$\n",
    "\\frac{dI_v}{ds} = -\\alpha_v I_v\n",
    "$$\n",
    "\n",
    "where $\\alpha$ is the *fractioanl depletion coefficient* per path length. We can define the optical depth $\\tau$ as\n",
    "\n",
    "$$\n",
    "d \\tau_v = -\\alpha_v ds\n",
    "$$\n",
    "\n",
    "and the radiative transfer equation becomes\n",
    "\n",
    "$$\n",
    "\\frac{dI_v}{d\\tau_v} = -I_v\n",
    "$$"
   ]
  },
  {
   "cell_type": "markdown",
   "metadata": {},
   "source": [
    "However radiation can also travel through a radiation emitting medium. The radiative transfer equation then becomes\n",
    "\n",
    "$$\n",
    "\\frac{dI_v}{ds} = -\\alpha_v I_v + j_v\n",
    "$$\n",
    "\n",
    "where $j$ is the *emission coefficient*. We can also define it in terms of the optical depth\n",
    "\n",
    "$$\n",
    "\\frac{dI_v}{d\\tau_v} = \\frac{j_v}{\\alpha_v} - I_v.\n",
    "$$\n",
    "\n",
    "We then define the source function as \n",
    "\n",
    "$$\n",
    "S_v = \\frac{j_v}{\\alpha_v}\n",
    "$$\n",
    "\n",
    "and the radiative transfer equation becomes\n",
    "\n",
    "$$\n",
    "\\frac{dI_v}{d\\tau_v} = S_v - I_v.\n",
    "$$"
   ]
  },
  {
   "cell_type": "markdown",
   "metadata": {},
   "source": [
    "## MCRT \n",
    "\n",
    "We can simulate the radiative transfer equation using Monte Carlo methods. We leverage an abstraction called photon packets, or machine photons, where a number of photons are grouped together. The photons are described by their position, direction, frequency, energy and weight. Over the course of the simulation, each photon packet continously accumulates optical depth. Hence contrary to classical simulations, we do not integrate over time but over optical depth.\n",
    "\n"
   ]
  },
  {
   "cell_type": "markdown",
   "metadata": {},
   "source": [
    "We treat interactions with the medium as discrete interaction events, hence the MC algorithm needs to find when those events occur. We denote a random number as $\\xi$. At the beginning of each packet trajectory event, each packet is assigned a new optical depth distance to the next interaction by\n",
    "\n",
    "$$\n",
    "\\tau = -\\log(\\xi)\n",
    "$$\n",
    "\n"
   ]
  },
  {
   "cell_type": "code",
   "execution_count": 9,
   "metadata": {},
   "outputs": [],
   "source": [
    "struct Packets\n",
    "    # position in optical depth space, since we are operating on a sphere only r is needed\n",
    "    tau::AbstractArray{Float32, 1}\n",
    "    # propagation direction in optical depth space, same principle as position\n",
    "    mu::AbstractArray{Float32, 1}  \n",
    "end"
   ]
  },
  {
   "cell_type": "code",
   "execution_count": 17,
   "metadata": {},
   "outputs": [],
   "source": [
    "struct Grid\n",
    "    # A spherical grid \n",
    "    radius::Float32 # radius of sphere\n",
    "    dx::Float32 # grid spacing\n",
    "    n_cells::Float32 # number of cells\n",
    "end \n"
   ]
  },
  {
   "cell_type": "code",
   "execution_count": null,
   "metadata": {},
   "outputs": [],
   "source": [
    "function get_grid_cell(grid::Grid, x::Float32)\n",
    "    return Int(floor((x - grid.left_boundary) / grid.dx))\n",
    "end"
   ]
  },
  {
   "cell_type": "code",
   "execution_count": 21,
   "metadata": {},
   "outputs": [
    {
     "data": {
      "text/plain": [
       "chi (generic function with 1 method)"
      ]
     },
     "metadata": {},
     "output_type": "display_data"
    }
   ],
   "source": [
    "function get_chi(r::Float32) :: Float32\n",
    "    return 1 / (r + 1e-6)^2\n",
    "end"
   ]
  },
  {
   "cell_type": "code",
   "execution_count": 19,
   "metadata": {},
   "outputs": [
    {
     "data": {
      "text/plain": [
       "event (generic function with 2 methods)"
      ]
     },
     "metadata": {},
     "output_type": "display_data"
    }
   ],
   "source": [
    "function event(p::Packets, grid::Grid) :: Packets\n",
    "    # sample optical depth to next event\n",
    "    tau_to_next = -log(rand(Float32, size(p.tau)))\n",
    "    # get chi for each packet\n",
    "    chi = map(get_chi, p.tau)\n",
    "    # invert the optical depth to get the distance to the next event\n",
    "    distance_to_next = tau_to_next ./ p.tau\n",
    "    \n",
    "    \n",
    "end"
   ]
  },
  {
   "cell_type": "code",
   "execution_count": null,
   "metadata": {},
   "outputs": [],
   "source": []
  }
 ],
 "metadata": {
  "kernelspec": {
   "display_name": "Julia 1.10.3",
   "language": "julia",
   "name": "julia-1.10"
  },
  "language_info": {
   "file_extension": ".jl",
   "mimetype": "application/julia",
   "name": "julia",
   "version": "1.10.3"
  }
 },
 "nbformat": 4,
 "nbformat_minor": 2
}
