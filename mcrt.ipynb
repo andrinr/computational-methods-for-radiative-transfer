{
 "cells": [
  {
   "cell_type": "markdown",
   "metadata": {},
   "source": [
    "# Monte Carlo Radiative Transfer\n",
    "\n",
    "## Background\n",
    "\n",
    "### Important Variables\n",
    "\n",
    "- Specific Intensity $I_v$ or $I(\\mathbf{x}, t, \\nu)$\n",
    "- $\\mathbf{x}$ position in space\n",
    "- $t$ time\n",
    "- $\\nu$ frequency\n",
    "- $\\chi$ opacity\n",
    "\n",
    "The radiative transfer equation describes the propagation of light through a medium. Let us start by assuming the light propagates through empty space then\n",
    "\n",
    "$$\n",
    "\\frac{dI_v}{ds} = 0\n",
    "$$\n",
    "\n",
    "where $I$ is the intensity of light and $s$ is the distance traveled. Let us add a radiation absorbing medium to the mix. The radiative transfer equation then becomes\n",
    "\n",
    "$$\n",
    "\\frac{dI_v}{ds} = -\\alpha_v I_v\n",
    "$$\n",
    "\n",
    "where $\\alpha$ is the *fractioanl depletion coefficient* per path length. We can define the optical depth $\\tau$ as\n",
    "\n",
    "$$\n",
    "d \\tau_v = -\\alpha_v ds\n",
    "$$\n",
    "\n",
    "and the radiative transfer equation becomes\n",
    "\n",
    "$$\n",
    "\\frac{dI_v}{d\\tau_v} = -I_v\n",
    "$$"
   ]
  },
  {
   "cell_type": "markdown",
   "metadata": {},
   "source": [
    "However radiation can also travel through a radiation emitting medium. The radiative transfer equation then becomes\n",
    "\n",
    "$$\n",
    "\\frac{dI_v}{ds} = -\\alpha_v I_v + j_v\n",
    "$$\n",
    "\n",
    "where $j$ is the *emission coefficient*. We can also define it in terms of the optical depth\n",
    "\n",
    "$$\n",
    "\\frac{dI_v}{d\\tau_v} = \\frac{j_v}{\\alpha_v} - I_v.\n",
    "$$\n",
    "\n",
    "We then define the source function as \n",
    "\n",
    "$$\n",
    "S_v = \\frac{j_v}{\\alpha_v}\n",
    "$$\n",
    "\n",
    "and the radiative transfer equation becomes\n",
    "\n",
    "$$\n",
    "\\frac{dI_v}{d\\tau_v} = S_v - I_v.\n",
    "$$"
   ]
  },
  {
   "cell_type": "markdown",
   "metadata": {},
   "source": [
    "## MCRT \n",
    "\n",
    "We can simulate the radiative transfer equation using Monte Carlo methods. We leverage an abstraction called photon packets, or machine photons, where a number of photons are grouped together. The photons are described by their position, direction, frequency, energy and weight. Over the course of the simulation, each photon packet continously accumulates optical depth. Hence contrary to classical simulations, we do not integrate over time but over optical depth.\n",
    "\n"
   ]
  },
  {
   "cell_type": "markdown",
   "metadata": {},
   "source": [
    "We treat interactions with the medium as discrete interaction events, hence the MC algorithm needs to find when those events occur. We denote a random number as $\\xi$. At the beginning of each packet trajectory event, each packet is assigned a new optical depth distance to the next interaction by\n",
    "\n",
    "$$\n",
    "\\tau = -\\log(\\xi)\n",
    "$$\n",
    "\n"
   ]
  },
  {
   "cell_type": "code",
   "execution_count": 1,
   "metadata": {},
   "outputs": [],
   "source": [
    "using Plots"
   ]
  },
  {
   "cell_type": "code",
   "execution_count": 2,
   "metadata": {},
   "outputs": [],
   "source": [
    "mutable struct PP\n",
    "    # position in physical space\n",
    "    pos::AbstractArray{Float64, 1}\n",
    "    # propagation direction\n",
    "    mu::AbstractArray{Float64, 1}\n",
    "    # state of the packet, False means the photon has escaped\n",
    "    absorbed::AbstractArray{Bool, 1}\n",
    "    escaped::AbstractArray{Bool, 1}\n",
    "end"
   ]
  },
  {
   "cell_type": "code",
   "execution_count": 3,
   "metadata": {},
   "outputs": [
    {
     "data": {
      "text/plain": [
       "int_chi (generic function with 1 method)"
      ]
     },
     "metadata": {},
     "output_type": "display_data"
    }
   ],
   "source": [
    "function chi(r::Float64) :: Float64\n",
    "    return 1 / (r + 1e-4)^2\n",
    "end\n",
    "\n",
    "# We can analytically integrate over chi, however we cannot really find the inverse of this function\n",
    "# Therefore we stick to a grid based approach\n",
    "function int_chi(r1::Float64, r2::Float64) :: Float64\n",
    "    return -1 / (r2 + 1e-4) + 1 / (r1 + 1e-4)\n",
    "end"
   ]
  },
  {
   "cell_type": "code",
   "execution_count": 4,
   "metadata": {},
   "outputs": [
    {
     "data": {
      "image/png": "[encoded data removed]",
      "image/svg+xml": [
       "<?xml version=\"1.0\" encoding=\"utf-8\"?>\n",
       "<svg xmlns=\"http://www.w3.org/2000/svg\" xmlns:xlink=\"http://www.w3.org/1999/xlink\" width=\"300\" height=\"200\" viewBox=\"0 0 1200 800\">\n",
       "<defs>\n",
       "  <clipPath id=\"clip190\">\n",
       "    <rect x=\"0\" y=\"0\" width=\"1200\" height=\"800\"/>\n",
       "  </clipPath>\n",
       "</defs>\n",
       "<path clip-path=\"url(#clip190)\" d=\"M0 800 L1200 800 L1200 0 L0 0  Z\" fill=\"#ffffff\" fill-rule=\"evenodd\" fill-opacity=\"1\"/>\n",
       "<defs>\n",
       "  <clipPath id=\"clip191\">\n",
       "    <rect x=\"240\" y=\"0\" width=\"841\" height=\"800\"/>\n",
       "  </clipPath>\n",
       "</defs>\n",
       "<path clip-path=\"url(#clip190)\" d=\"M157.121 631.18 L1152.76 631.18 L1152.76 47.2441 L157.121 47.2441  Z\" fill=\"#ffffff\" fill-rule=\"evenodd\" fill-opacity=\"1\"/>\n",
       "<defs>\n",
       "  <clipPath id=\"clip192\">\n",
       "    <rect x=\"157\" y=\"47\" width=\"997\" height=\"585\"/>\n",
       "  </clipPath>\n",
       "</defs>\n",
       "<polyline clip-path=\"url(#clip192)\" style=\"stroke:#000000; stroke-linecap:round; stroke-linejoin:round; stroke-width:2; stroke-opacity:0.1; fill:none\" points=\"289.664,631.18 289.664,47.2441 \"/>\n",
       "<polyline clip-path=\"url(#clip192)\" style=\"stroke:#000000; stroke-linecap:round; stroke-linejoin:round; stroke-width:2; stroke-opacity:0.1; fill:none\" points=\"498.392,631.18 498.392,47.2441 \"/>\n",
       "<polyline clip-path=\"url(#clip192)\" style=\"stroke:#000000; stroke-linecap:round; stroke-linejoin:round; stroke-width:2; stroke-opacity:0.1; fill:none\" points=\"707.121,631.18 707.121,47.2441 \"/>\n",
       "<polyline clip-path=\"url(#clip192)\" style=\"stroke:#000000; stroke-linecap:round; stroke-linejoin:round; stroke-width:2; stroke-opacity:0.1; fill:none\" points=\"915.849,631.18 915.849,47.2441 \"/>\n",
       "<polyline clip-path=\"url(#clip192)\" style=\"stroke:#000000; stroke-linecap:round; stroke-linejoin:round; stroke-width:2; stroke-opacity:0.1; fill:none\" points=\"1124.58,631.18 1124.58,47.2441 \"/>\n",
       "<polyline clip-path=\"url(#clip190)\" style=\"stroke:#000000; stroke-linecap:round; stroke-linejoin:round; stroke-width:4; stroke-opacity:1; fill:none\" points=\"157.121,631.18 1152.76,631.18 \"/>\n",
       "<polyline clip-path=\"url(#clip190)\" style=\"stroke:#000000; stroke-linecap:round; stroke-linejoin:round; stroke-width:4; stroke-opacity:1; fill:none\" points=\"289.664,631.18 289.664,612.282 \"/>\n",
       "<polyline clip-path=\"url(#clip190)\" style=\"stroke:#000000; stroke-linecap:round; stroke-linejoin:round; stroke-width:4; stroke-opacity:1; fill:none\" points=\"498.392,631.18 498.392,612.282 \"/>\n",
       "<polyline clip-path=\"url(#clip190)\" style=\"stroke:#000000; stroke-linecap:round; stroke-linejoin:round; stroke-width:4; stroke-opacity:1; fill:none\" points=\"707.121,631.18 707.121,612.282 \"/>\n",
       "<polyline clip-path=\"url(#clip190)\" style=\"stroke:#000000; stroke-linecap:round; stroke-linejoin:round; stroke-width:4; stroke-opacity:1; fill:none\" points=\"915.849,631.18 915.849,612.282 \"/>\n",
       "<polyline clip-path=\"url(#clip190)\" style=\"stroke:#000000; stroke-linecap:round; stroke-linejoin:round; stroke-width:4; stroke-opacity:1; fill:none\" points=\"1124.58,631.18 1124.58,612.282 \"/>\n",
       "<path clip-path=\"url(#clip190)\" d=\"M267.847 652.499 Q264.236 652.499 262.407 656.063 Q260.602 659.605 260.602 666.735 Q260.602 673.841 262.407 677.406 Q264.236 680.947 267.847 680.947 Q271.481 680.947 273.287 677.406 Q275.115 673.841 275.115 666.735 Q275.115 659.605 273.287 656.063 Q271.481 652.499 267.847 652.499 M267.847 648.795 Q273.657 648.795 276.713 653.401 Q279.791 657.985 279.791 666.735 Q279.791 675.461 276.713 680.068 Q273.657 684.651 267.847 684.651 Q262.037 684.651 258.958 680.068 Q255.902 675.461 255.902 666.735 Q255.902 657.985 258.958 653.401 Q262.037 648.795 267.847 648.795 Z\" fill=\"#000000\" fill-rule=\"nonzero\" fill-opacity=\"1\" /><path clip-path=\"url(#clip190)\" d=\"M288.009 678.1 L292.893 678.1 L292.893 683.98 L288.009 683.98 L288.009 678.1 Z\" fill=\"#000000\" fill-rule=\"nonzero\" fill-opacity=\"1\" /><path clip-path=\"url(#clip190)\" d=\"M307.106 680.045 L323.425 680.045 L323.425 683.98 L301.481 683.98 L301.481 680.045 Q304.143 677.29 308.726 672.66 Q313.333 668.008 314.513 666.665 Q316.759 664.142 317.638 662.406 Q318.541 660.647 318.541 658.957 Q318.541 656.202 316.597 654.466 Q314.675 652.73 311.573 652.73 Q309.374 652.73 306.921 653.494 Q304.49 654.258 301.712 655.809 L301.712 651.087 Q304.536 649.952 306.99 649.374 Q309.444 648.795 311.481 648.795 Q316.851 648.795 320.046 651.48 Q323.24 654.165 323.24 658.656 Q323.24 660.786 322.43 662.707 Q321.643 664.605 319.536 667.198 Q318.958 667.869 315.856 671.086 Q312.754 674.281 307.106 680.045 Z\" fill=\"#000000\" fill-rule=\"nonzero\" fill-opacity=\"1\" /><path clip-path=\"url(#clip190)\" d=\"M475.534 652.499 Q471.923 652.499 470.094 656.063 Q468.288 659.605 468.288 666.735 Q468.288 673.841 470.094 677.406 Q471.923 680.947 475.534 680.947 Q479.168 680.947 480.973 677.406 Q482.802 673.841 482.802 666.735 Q482.802 659.605 480.973 656.063 Q479.168 652.499 475.534 652.499 M475.534 648.795 Q481.344 648.795 484.399 653.401 Q487.478 657.985 487.478 666.735 Q487.478 675.461 484.399 680.068 Q481.344 684.651 475.534 684.651 Q469.723 684.651 466.645 680.068 Q463.589 675.461 463.589 666.735 Q463.589 657.985 466.645 653.401 Q469.723 648.795 475.534 648.795 Z\" fill=\"#000000\" fill-rule=\"nonzero\" fill-opacity=\"1\" /><path clip-path=\"url(#clip190)\" d=\"M495.696 678.1 L500.58 678.1 L500.58 683.98 L495.696 683.98 L495.696 678.1 Z\" fill=\"#000000\" fill-rule=\"nonzero\" fill-opacity=\"1\" /><path clip-path=\"url(#clip190)\" d=\"M523.612 653.494 L511.807 671.943 L523.612 671.943 L523.612 653.494 M522.385 649.42 L528.265 649.42 L528.265 671.943 L533.195 671.943 L533.195 675.832 L528.265 675.832 L528.265 683.98 L523.612 683.98 L523.612 675.832 L508.01 675.832 L508.01 671.318 L522.385 649.42 Z\" fill=\"#000000\" fill-rule=\"nonzero\" fill-opacity=\"1\" /><path clip-path=\"url(#clip190)\" d=\"M684.424 652.499 Q680.813 652.499 678.984 656.063 Q677.179 659.605 677.179 666.735 Q677.179 673.841 678.984 677.406 Q680.813 680.947 684.424 680.947 Q688.058 680.947 689.864 677.406 Q691.693 673.841 691.693 666.735 Q691.693 659.605 689.864 656.063 Q688.058 652.499 684.424 652.499 M684.424 648.795 Q690.234 648.795 693.29 653.401 Q696.368 657.985 696.368 666.735 Q696.368 675.461 693.29 680.068 Q690.234 684.651 684.424 684.651 Q678.614 684.651 675.535 680.068 Q672.48 675.461 672.48 666.735 Q672.48 657.985 675.535 653.401 Q678.614 648.795 684.424 648.795 Z\" fill=\"#000000\" fill-rule=\"nonzero\" fill-opacity=\"1\" /><path clip-path=\"url(#clip190)\" d=\"M704.586 678.1 L709.47 678.1 L709.47 683.98 L704.586 683.98 L704.586 678.1 Z\" fill=\"#000000\" fill-rule=\"nonzero\" fill-opacity=\"1\" /><path clip-path=\"url(#clip190)\" d=\"M730.234 664.836 Q727.086 664.836 725.234 666.989 Q723.405 669.142 723.405 672.892 Q723.405 676.619 725.234 678.795 Q727.086 680.947 730.234 680.947 Q733.382 680.947 735.211 678.795 Q737.063 676.619 737.063 672.892 Q737.063 669.142 735.211 666.989 Q733.382 664.836 730.234 664.836 M739.516 650.184 L739.516 654.443 Q737.757 653.61 735.952 653.17 Q734.169 652.73 732.41 652.73 Q727.78 652.73 725.327 655.855 Q722.896 658.98 722.549 665.299 Q723.915 663.286 725.975 662.221 Q728.035 661.133 730.512 661.133 Q735.72 661.133 738.729 664.304 Q741.762 667.452 741.762 672.892 Q741.762 678.216 738.614 681.434 Q735.465 684.651 730.234 684.651 Q724.239 684.651 721.067 680.068 Q717.896 675.461 717.896 666.735 Q717.896 658.54 721.785 653.679 Q725.674 648.795 732.225 648.795 Q733.984 648.795 735.766 649.142 Q737.572 649.489 739.516 650.184 Z\" fill=\"#000000\" fill-rule=\"nonzero\" fill-opacity=\"1\" /><path clip-path=\"url(#clip190)\" d=\"M893.28 652.499 Q889.669 652.499 887.84 656.063 Q886.034 659.605 886.034 666.735 Q886.034 673.841 887.84 677.406 Q889.669 680.947 893.28 680.947 Q896.914 680.947 898.72 677.406 Q900.548 673.841 900.548 666.735 Q900.548 659.605 898.72 656.063 Q896.914 652.499 893.28 652.499 M893.28 648.795 Q899.09 648.795 902.146 653.401 Q905.224 657.985 905.224 666.735 Q905.224 675.461 902.146 680.068 Q899.09 684.651 893.28 684.651 Q887.47 684.651 884.391 680.068 Q881.335 675.461 881.335 666.735 Q881.335 657.985 884.391 653.401 Q887.47 648.795 893.28 648.795 Z\" fill=\"#000000\" fill-rule=\"nonzero\" fill-opacity=\"1\" /><path clip-path=\"url(#clip190)\" d=\"M913.442 678.1 L918.326 678.1 L918.326 683.98 L913.442 683.98 L913.442 678.1 Z\" fill=\"#000000\" fill-rule=\"nonzero\" fill-opacity=\"1\" /><path clip-path=\"url(#clip190)\" d=\"M938.511 667.568 Q935.178 667.568 933.256 669.35 Q931.358 671.133 931.358 674.258 Q931.358 677.383 933.256 679.165 Q935.178 680.947 938.511 680.947 Q941.844 680.947 943.766 679.165 Q945.687 677.36 945.687 674.258 Q945.687 671.133 943.766 669.35 Q941.868 667.568 938.511 667.568 M933.835 665.577 Q930.826 664.836 929.136 662.776 Q927.469 660.716 927.469 657.753 Q927.469 653.61 930.409 651.202 Q933.372 648.795 938.511 648.795 Q943.673 648.795 946.613 651.202 Q949.553 653.61 949.553 657.753 Q949.553 660.716 947.863 662.776 Q946.196 664.836 943.21 665.577 Q946.59 666.364 948.465 668.656 Q950.363 670.948 950.363 674.258 Q950.363 679.281 947.284 681.966 Q944.229 684.651 938.511 684.651 Q932.793 684.651 929.715 681.966 Q926.659 679.281 926.659 674.258 Q926.659 670.948 928.557 668.656 Q930.456 666.364 933.835 665.577 M932.122 658.193 Q932.122 660.878 933.789 662.383 Q935.479 663.887 938.511 663.887 Q941.52 663.887 943.21 662.383 Q944.923 660.878 944.923 658.193 Q944.923 655.508 943.21 654.003 Q941.52 652.499 938.511 652.499 Q935.479 652.499 933.789 654.003 Q932.122 655.508 932.122 658.193 Z\" fill=\"#000000\" fill-rule=\"nonzero\" fill-opacity=\"1\" /><path clip-path=\"url(#clip190)\" d=\"M1091.73 680.045 L1099.37 680.045 L1099.37 653.679 L1091.06 655.346 L1091.06 651.087 L1099.32 649.42 L1104 649.42 L1104 680.045 L1111.64 680.045 L1111.64 683.98 L1091.73 683.98 L1091.73 680.045 Z\" fill=\"#000000\" fill-rule=\"nonzero\" fill-opacity=\"1\" /><path clip-path=\"url(#clip190)\" d=\"M1121.08 678.1 L1125.97 678.1 L1125.97 683.98 L1121.08 683.98 L1121.08 678.1 Z\" fill=\"#000000\" fill-rule=\"nonzero\" fill-opacity=\"1\" /><path clip-path=\"url(#clip190)\" d=\"M1146.15 652.499 Q1142.54 652.499 1140.71 656.063 Q1138.91 659.605 1138.91 666.735 Q1138.91 673.841 1140.71 677.406 Q1142.54 680.947 1146.15 680.947 Q1149.79 680.947 1151.59 677.406 Q1153.42 673.841 1153.42 666.735 Q1153.42 659.605 1151.59 656.063 Q1149.79 652.499 1146.15 652.499 M1146.15 648.795 Q1151.96 648.795 1155.02 653.401 Q1158.1 657.985 1158.1 666.735 Q1158.1 675.461 1155.02 680.068 Q1151.96 684.651 1146.15 684.651 Q1140.34 684.651 1137.26 680.068 Q1134.21 675.461 1134.21 666.735 Q1134.21 657.985 1137.26 653.401 Q1140.34 648.795 1146.15 648.795 Z\" fill=\"#000000\" fill-rule=\"nonzero\" fill-opacity=\"1\" /><path clip-path=\"url(#clip190)\" d=\"M665.378 727.87 Q664.392 727.297 663.214 727.043 Q662.068 726.756 660.668 726.756 Q655.702 726.756 653.029 730.003 Q650.387 733.218 650.387 739.265 L650.387 758.044 L644.499 758.044 L644.499 722.396 L650.387 722.396 L650.387 727.934 Q652.233 724.688 655.193 723.128 Q658.153 721.537 662.386 721.537 Q662.991 721.537 663.723 721.632 Q664.455 721.696 665.347 721.855 L665.378 727.87 Z\" fill=\"#000000\" fill-rule=\"nonzero\" fill-opacity=\"1\" /><polyline clip-path=\"url(#clip192)\" style=\"stroke:#000000; stroke-linecap:round; stroke-linejoin:round; stroke-width:2; stroke-opacity:0.1; fill:none\" points=\"157.121,614.653 1152.76,614.653 \"/>\n",
       "<polyline clip-path=\"url(#clip192)\" style=\"stroke:#000000; stroke-linecap:round; stroke-linejoin:round; stroke-width:2; stroke-opacity:0.1; fill:none\" points=\"157.121,476.657 1152.76,476.657 \"/>\n",
       "<polyline clip-path=\"url(#clip192)\" style=\"stroke:#000000; stroke-linecap:round; stroke-linejoin:round; stroke-width:2; stroke-opacity:0.1; fill:none\" points=\"157.121,338.661 1152.76,338.661 \"/>\n",
       "<polyline clip-path=\"url(#clip192)\" style=\"stroke:#000000; stroke-linecap:round; stroke-linejoin:round; stroke-width:2; stroke-opacity:0.1; fill:none\" points=\"157.121,200.665 1152.76,200.665 \"/>\n",
       "<polyline clip-path=\"url(#clip192)\" style=\"stroke:#000000; stroke-linecap:round; stroke-linejoin:round; stroke-width:2; stroke-opacity:0.1; fill:none\" points=\"157.121,62.6683 1152.76,62.6683 \"/>\n",
       "<polyline clip-path=\"url(#clip190)\" style=\"stroke:#000000; stroke-linecap:round; stroke-linejoin:round; stroke-width:4; stroke-opacity:1; fill:none\" points=\"157.121,631.18 157.121,47.2441 \"/>\n",
       "<polyline clip-path=\"url(#clip190)\" style=\"stroke:#000000; stroke-linecap:round; stroke-linejoin:round; stroke-width:4; stroke-opacity:1; fill:none\" points=\"157.121,614.653 176.019,614.653 \"/>\n",
       "<polyline clip-path=\"url(#clip190)\" style=\"stroke:#000000; stroke-linecap:round; stroke-linejoin:round; stroke-width:4; stroke-opacity:1; fill:none\" points=\"157.121,476.657 176.019,476.657 \"/>\n",
       "<polyline clip-path=\"url(#clip190)\" style=\"stroke:#000000; stroke-linecap:round; stroke-linejoin:round; stroke-width:4; stroke-opacity:1; fill:none\" points=\"157.121,338.661 176.019,338.661 \"/>\n",
       "<polyline clip-path=\"url(#clip190)\" style=\"stroke:#000000; stroke-linecap:round; stroke-linejoin:round; stroke-width:4; stroke-opacity:1; fill:none\" points=\"157.121,200.665 176.019,200.665 \"/>\n",
       "<polyline clip-path=\"url(#clip190)\" style=\"stroke:#000000; stroke-linecap:round; stroke-linejoin:round; stroke-width:4; stroke-opacity:1; fill:none\" points=\"157.121,62.6683 176.019,62.6683 \"/>\n",
       "<path clip-path=\"url(#clip190)\" d=\"M127.177 600.452 Q123.566 600.452 121.737 604.017 Q119.932 607.558 119.932 614.688 Q119.932 621.795 121.737 625.359 Q123.566 628.901 127.177 628.901 Q130.811 628.901 132.617 625.359 Q134.445 621.795 134.445 614.688 Q134.445 607.558 132.617 604.017 Q130.811 600.452 127.177 600.452 M127.177 596.748 Q132.987 596.748 136.043 601.355 Q139.121 605.938 139.121 614.688 Q139.121 623.415 136.043 628.021 Q132.987 632.605 127.177 632.605 Q121.367 632.605 118.288 628.021 Q115.233 623.415 115.233 614.688 Q115.233 605.938 118.288 601.355 Q121.367 596.748 127.177 596.748 Z\" fill=\"#000000\" fill-rule=\"nonzero\" fill-opacity=\"1\" /><path clip-path=\"url(#clip190)\" d=\"M92.0382 490.002 L108.358 490.002 L108.358 493.937 L86.4133 493.937 L86.4133 490.002 Q89.0753 487.247 93.6586 482.618 Q98.2651 477.965 99.4456 476.622 Q101.691 474.099 102.571 472.363 Q103.473 470.604 103.473 468.914 Q103.473 466.159 101.529 464.423 Q99.6076 462.687 96.5058 462.687 Q94.3067 462.687 91.8531 463.451 Q89.4225 464.215 86.6447 465.766 L86.6447 461.044 Q89.4688 459.909 91.9225 459.331 Q94.3762 458.752 96.4132 458.752 Q101.784 458.752 104.978 461.437 Q108.172 464.122 108.172 468.613 Q108.172 470.743 107.362 472.664 Q106.575 474.562 104.469 477.155 Q103.89 477.826 100.788 481.044 Q97.6864 484.238 92.0382 490.002 Z\" fill=\"#000000\" fill-rule=\"nonzero\" fill-opacity=\"1\" /><path clip-path=\"url(#clip190)\" d=\"M118.219 459.377 L136.575 459.377 L136.575 463.312 L122.501 463.312 L122.501 471.784 Q123.52 471.437 124.538 471.275 Q125.557 471.09 126.575 471.09 Q132.362 471.09 135.742 474.261 Q139.121 477.433 139.121 482.849 Q139.121 488.428 135.649 491.53 Q132.177 494.608 125.857 494.608 Q123.682 494.608 121.413 494.238 Q119.168 493.868 116.76 493.127 L116.76 488.428 Q118.844 489.562 121.066 490.118 Q123.288 490.673 125.765 490.673 Q129.77 490.673 132.107 488.567 Q134.445 486.46 134.445 482.849 Q134.445 479.238 132.107 477.132 Q129.77 475.025 125.765 475.025 Q123.89 475.025 122.015 475.442 Q120.163 475.858 118.219 476.738 L118.219 459.377 Z\" fill=\"#000000\" fill-rule=\"nonzero\" fill-opacity=\"1\" /><path clip-path=\"url(#clip190)\" d=\"M87.0614 321.381 L105.418 321.381 L105.418 325.316 L91.3438 325.316 L91.3438 333.788 Q92.3623 333.441 93.3808 333.279 Q94.3993 333.094 95.4178 333.094 Q101.205 333.094 104.584 336.265 Q107.964 339.436 107.964 344.853 Q107.964 350.432 104.492 353.533 Q101.02 356.612 94.7003 356.612 Q92.5243 356.612 90.2558 356.242 Q88.0105 355.871 85.6031 355.131 L85.6031 350.432 Q87.6864 351.566 89.9086 352.121 Q92.1308 352.677 94.6077 352.677 Q98.6123 352.677 100.95 350.57 Q103.288 348.464 103.288 344.853 Q103.288 341.242 100.95 339.135 Q98.6123 337.029 94.6077 337.029 Q92.7327 337.029 90.8577 337.446 Q89.0058 337.862 87.0614 338.742 L87.0614 321.381 Z\" fill=\"#000000\" fill-rule=\"nonzero\" fill-opacity=\"1\" /><path clip-path=\"url(#clip190)\" d=\"M127.177 324.459 Q123.566 324.459 121.737 328.024 Q119.932 331.566 119.932 338.696 Q119.932 345.802 121.737 349.367 Q123.566 352.908 127.177 352.908 Q130.811 352.908 132.617 349.367 Q134.445 345.802 134.445 338.696 Q134.445 331.566 132.617 328.024 Q130.811 324.459 127.177 324.459 M127.177 320.756 Q132.987 320.756 136.043 325.362 Q139.121 329.946 139.121 338.696 Q139.121 347.422 136.043 352.029 Q132.987 356.612 127.177 356.612 Q121.367 356.612 118.288 352.029 Q115.233 347.422 115.233 338.696 Q115.233 329.946 118.288 325.362 Q121.367 320.756 127.177 320.756 Z\" fill=\"#000000\" fill-rule=\"nonzero\" fill-opacity=\"1\" /><path clip-path=\"url(#clip190)\" d=\"M86.8299 183.385 L109.052 183.385 L109.052 185.375 L96.5058 217.945 L91.6216 217.945 L103.427 187.32 L86.8299 187.32 L86.8299 183.385 Z\" fill=\"#000000\" fill-rule=\"nonzero\" fill-opacity=\"1\" /><path clip-path=\"url(#clip190)\" d=\"M118.219 183.385 L136.575 183.385 L136.575 187.32 L122.501 187.32 L122.501 195.792 Q123.52 195.445 124.538 195.283 Q125.557 195.097 126.575 195.097 Q132.362 195.097 135.742 198.269 Q139.121 201.44 139.121 206.857 Q139.121 212.435 135.649 215.537 Q132.177 218.616 125.857 218.616 Q123.682 218.616 121.413 218.245 Q119.168 217.875 116.76 217.134 L116.76 212.435 Q118.844 213.57 121.066 214.125 Q123.288 214.681 125.765 214.681 Q129.77 214.681 132.107 212.574 Q134.445 210.468 134.445 206.857 Q134.445 203.246 132.107 201.139 Q129.77 199.033 125.765 199.033 Q123.89 199.033 122.015 199.449 Q120.163 199.866 118.219 200.746 L118.219 183.385 Z\" fill=\"#000000\" fill-rule=\"nonzero\" fill-opacity=\"1\" /><path clip-path=\"url(#clip190)\" d=\"M57.6634 76.0131 L65.3023 76.0131 L65.3023 49.6475 L56.9921 51.3142 L56.9921 47.0549 L65.256 45.3883 L69.9319 45.3883 L69.9319 76.0131 L77.5707 76.0131 L77.5707 79.9483 L57.6634 79.9483 L57.6634 76.0131 Z\" fill=\"#000000\" fill-rule=\"nonzero\" fill-opacity=\"1\" /><path clip-path=\"url(#clip190)\" d=\"M97.0151 48.4669 Q93.404 48.4669 91.5753 52.0317 Q89.7697 55.5734 89.7697 62.703 Q89.7697 69.8094 91.5753 73.3742 Q93.404 76.9159 97.0151 76.9159 Q100.649 76.9159 102.455 73.3742 Q104.284 69.8094 104.284 62.703 Q104.284 55.5734 102.455 52.0317 Q100.649 48.4669 97.0151 48.4669 M97.0151 44.7633 Q102.825 44.7633 105.881 49.3697 Q108.959 53.953 108.959 62.703 Q108.959 71.4298 105.881 76.0362 Q102.825 80.6196 97.0151 80.6196 Q91.2049 80.6196 88.1262 76.0362 Q85.0707 71.4298 85.0707 62.703 Q85.0707 53.953 88.1262 49.3697 Q91.2049 44.7633 97.0151 44.7633 Z\" fill=\"#000000\" fill-rule=\"nonzero\" fill-opacity=\"1\" /><path clip-path=\"url(#clip190)\" d=\"M127.177 48.4669 Q123.566 48.4669 121.737 52.0317 Q119.932 55.5734 119.932 62.703 Q119.932 69.8094 121.737 73.3742 Q123.566 76.9159 127.177 76.9159 Q130.811 76.9159 132.617 73.3742 Q134.445 69.8094 134.445 62.703 Q134.445 55.5734 132.617 52.0317 Q130.811 48.4669 127.177 48.4669 M127.177 44.7633 Q132.987 44.7633 136.043 49.3697 Q139.121 53.953 139.121 62.703 Q139.121 71.4298 136.043 76.0362 Q132.987 80.6196 127.177 80.6196 Q121.367 80.6196 118.288 76.0362 Q115.233 71.4298 115.233 62.703 Q115.233 53.953 118.288 49.3697 Q121.367 44.7633 127.177 44.7633 Z\" fill=\"#000000\" fill-rule=\"nonzero\" fill-opacity=\"1\" /><polyline clip-path=\"url(#clip192)\" style=\"stroke:#009af9; stroke-linecap:round; stroke-linejoin:round; stroke-width:4; stroke-opacity:1; fill:none\" points=\"185.3,63.7706 195.736,159.296 206.172,231.968 216.609,288.537 227.045,333.43 237.482,369.653 247.918,399.303 258.355,423.88 268.791,444.477 279.227,461.91 289.664,476.795 300.1,489.606 310.537,500.71 320.973,510.399 331.41,518.902 341.846,526.406 352.282,533.062 362.719,538.991 373.155,544.297 383.592,549.064 394.028,553.363 404.464,557.252 414.901,560.782 425.337,563.997 435.774,566.932 446.21,569.619 456.647,572.086 467.083,574.355 477.519,576.447 487.956,578.381 498.392,580.172 508.829,581.833 519.265,583.377 529.702,584.814 540.138,586.155 550.574,587.407 561.011,588.578 571.447,589.676 581.884,590.706 592.32,591.673 602.757,592.583 613.193,593.44 623.629,594.248 634.066,595.01 644.502,595.731 654.939,596.413 665.375,597.058 675.811,597.67 686.248,598.25 696.684,598.802 707.121,599.326 717.557,599.824 727.994,600.298 738.43,600.75 748.866,601.181 759.303,601.593 769.739,601.985 780.176,602.361 790.612,602.719 801.049,603.063 811.485,603.392 821.921,603.707 832.358,604.008 842.794,604.298 853.231,604.576 863.667,604.843 874.103,605.099 884.54,605.346 894.976,605.583 905.413,605.811 915.849,606.031 926.286,606.242 936.722,606.446 947.158,606.643 957.595,606.832 968.031,607.015 978.468,607.192 988.904,607.362 999.341,607.527 1009.78,607.686 1020.21,607.84 1030.65,607.989 1041.09,608.133 1051.52,608.273 1061.96,608.408 1072.4,608.538 1082.83,608.665 1093.27,608.788 1103.7,608.907 1114.14,609.023 1124.58,609.135 \"/>\n",
       "<polyline clip-path=\"url(#clip192)\" style=\"stroke:#e26f46; stroke-linecap:round; stroke-linejoin:round; stroke-width:4; stroke-opacity:1; fill:none\" points=\"185.3,614.653 195.736,609.645 206.172,605.47 216.609,601.938 227.045,598.909 237.482,596.284 247.918,593.988 258.355,591.961 268.791,590.159 279.227,588.547 289.664,587.095 300.1,585.782 310.537,584.589 320.973,583.499 331.41,582.5 341.846,581.581 352.282,580.732 362.719,579.946 373.155,579.217 383.592,578.537 394.028,577.903 404.464,577.31 414.901,576.754 425.337,576.232 435.774,575.74 446.21,575.276 456.647,574.839 467.083,574.424 477.519,574.032 487.956,573.66 498.392,573.306 508.829,572.97 519.265,572.649 529.702,572.344 540.138,572.052 550.574,571.774 561.011,571.507 571.447,571.252 581.884,571.007 592.32,570.773 602.757,570.547 613.193,570.331 623.629,570.123 634.066,569.923 644.502,569.73 654.939,569.544 665.375,569.365 675.811,569.192 686.248,569.025 696.684,568.864 707.121,568.708 717.557,568.557 727.994,568.412 738.43,568.27 748.866,568.133 759.303,568.001 769.739,567.872 780.176,567.747 790.612,567.626 801.049,567.509 811.485,567.394 821.921,567.283 832.358,567.175 842.794,567.07 853.231,566.968 863.667,566.869 874.103,566.772 884.54,566.678 894.976,566.586 905.413,566.496 915.849,566.409 926.286,566.324 936.722,566.241 947.158,566.16 957.595,566.08 968.031,566.003 978.468,565.928 988.904,565.854 999.341,565.782 1009.78,565.711 1020.21,565.642 1030.65,565.575 1041.09,565.509 1051.52,565.445 1061.96,565.382 1072.4,565.32 1082.83,565.259 1093.27,565.2 1103.7,565.142 1114.14,565.085 1124.58,565.029 \"/>\n",
       "<path clip-path=\"url(#clip190)\" d=\"M817.274 222.229 L1119.57 222.229 L1119.57 66.7086 L817.274 66.7086  Z\" fill=\"#ffffff\" fill-rule=\"evenodd\" fill-opacity=\"1\"/>\n",
       "<polyline clip-path=\"url(#clip190)\" style=\"stroke:#000000; stroke-linecap:round; stroke-linejoin:round; stroke-width:4; stroke-opacity:1; fill:none\" points=\"817.274,222.229 1119.57,222.229 1119.57,66.7086 817.274,66.7086 817.274,222.229 \"/>\n",
       "<polyline clip-path=\"url(#clip190)\" style=\"stroke:#009af9; stroke-linecap:round; stroke-linejoin:round; stroke-width:4; stroke-opacity:1; fill:none\" points=\"828.337,118.549 894.712,118.549 \"/>\n",
       "<path clip-path=\"url(#clip190)\" d=\"M926.284 110.898 L926.284 114.88 Q924.479 113.884 922.65 113.398 Q920.844 112.889 918.993 112.889 Q914.849 112.889 912.557 115.528 Q910.266 118.144 910.266 122.889 Q910.266 127.634 912.557 130.273 Q914.849 132.889 918.993 132.889 Q920.844 132.889 922.65 132.403 Q924.479 131.893 926.284 130.898 L926.284 134.833 Q924.502 135.667 922.581 136.083 Q920.682 136.5 918.53 136.5 Q912.673 136.5 909.224 132.819 Q905.775 129.139 905.775 122.889 Q905.775 116.546 909.247 112.912 Q912.743 109.278 918.807 109.278 Q920.775 109.278 922.65 109.695 Q924.525 110.088 926.284 110.898 Z\" fill=\"#000000\" fill-rule=\"nonzero\" fill-opacity=\"1\" /><path clip-path=\"url(#clip190)\" d=\"M955.242 120.181 L955.242 135.829 L950.983 135.829 L950.983 120.319 Q950.983 116.639 949.548 114.81 Q948.113 112.982 945.242 112.982 Q941.793 112.982 939.803 115.181 Q937.812 117.38 937.812 121.176 L937.812 135.829 L933.53 135.829 L933.53 99.8103 L937.812 99.8103 L937.812 113.931 Q939.34 111.593 941.4 110.435 Q943.483 109.278 946.192 109.278 Q950.659 109.278 952.951 112.056 Q955.242 114.81 955.242 120.181 Z\" fill=\"#000000\" fill-rule=\"nonzero\" fill-opacity=\"1\" /><path clip-path=\"url(#clip190)\" d=\"M963.738 109.903 L967.997 109.903 L967.997 135.829 L963.738 135.829 L963.738 109.903 M963.738 99.8103 L967.997 99.8103 L967.997 105.204 L963.738 105.204 L963.738 99.8103 Z\" fill=\"#000000\" fill-rule=\"nonzero\" fill-opacity=\"1\" /><path clip-path=\"url(#clip190)\" d=\"M987.14 99.8566 Q984.039 105.181 982.534 110.389 Q981.029 115.597 981.029 120.944 Q981.029 126.292 982.534 131.546 Q984.062 136.778 987.14 142.079 L983.437 142.079 Q979.965 136.639 978.228 131.384 Q976.515 126.13 976.515 120.944 Q976.515 115.782 978.228 110.551 Q979.941 105.32 983.437 99.8566 L987.14 99.8566 Z\" fill=\"#000000\" fill-rule=\"nonzero\" fill-opacity=\"1\" /><path clip-path=\"url(#clip190)\" d=\"M1010.43 113.884 Q1009.71 113.468 1008.85 113.282 Q1008.02 113.074 1007 113.074 Q1003.39 113.074 1001.45 115.435 Q999.525 117.773 999.525 122.171 L999.525 135.829 L995.242 135.829 L995.242 109.903 L999.525 109.903 L999.525 113.931 Q1000.87 111.569 1003.02 110.435 Q1005.17 109.278 1008.25 109.278 Q1008.69 109.278 1009.22 109.347 Q1009.76 109.394 1010.4 109.509 L1010.43 113.884 Z\" fill=\"#000000\" fill-rule=\"nonzero\" fill-opacity=\"1\" /><path clip-path=\"url(#clip190)\" d=\"M1014.22 99.8566 L1017.93 99.8566 Q1021.4 105.32 1023.11 110.551 Q1024.85 115.782 1024.85 120.944 Q1024.85 126.13 1023.11 131.384 Q1021.4 136.639 1017.93 142.079 L1014.22 142.079 Q1017.3 136.778 1018.81 131.546 Q1020.33 126.292 1020.33 120.944 Q1020.33 115.597 1018.81 110.389 Q1017.3 105.181 1014.22 99.8566 Z\" fill=\"#000000\" fill-rule=\"nonzero\" fill-opacity=\"1\" /><polyline clip-path=\"url(#clip190)\" style=\"stroke:#e26f46; stroke-linecap:round; stroke-linejoin:round; stroke-width:4; stroke-opacity:1; fill:none\" points=\"828.337,170.389 894.712,170.389 \"/>\n",
       "<path clip-path=\"url(#clip190)\" d=\"M905.775 161.743 L910.034 161.743 L910.034 187.669 L905.775 187.669 L905.775 161.743 M905.775 151.65 L910.034 151.65 L910.034 157.044 L905.775 157.044 L905.775 151.65 Z\" fill=\"#000000\" fill-rule=\"nonzero\" fill-opacity=\"1\" /><path clip-path=\"url(#clip190)\" d=\"M940.497 172.021 L940.497 187.669 L936.238 187.669 L936.238 172.159 Q936.238 168.479 934.803 166.65 Q933.368 164.822 930.497 164.822 Q927.048 164.822 925.057 167.021 Q923.067 169.22 923.067 173.016 L923.067 187.669 L918.784 187.669 L918.784 161.743 L923.067 161.743 L923.067 165.771 Q924.594 163.433 926.655 162.275 Q928.738 161.118 931.446 161.118 Q935.914 161.118 938.205 163.896 Q940.497 166.65 940.497 172.021 Z\" fill=\"#000000\" fill-rule=\"nonzero\" fill-opacity=\"1\" /><path clip-path=\"url(#clip190)\" d=\"M953.205 154.382 L953.205 161.743 L961.978 161.743 L961.978 165.053 L953.205 165.053 L953.205 179.127 Q953.205 182.298 954.062 183.201 Q954.941 184.104 957.604 184.104 L961.978 184.104 L961.978 187.669 L957.604 187.669 Q952.673 187.669 950.798 185.84 Q948.923 183.988 948.923 179.127 L948.923 165.053 L945.798 165.053 L945.798 161.743 L948.923 161.743 L948.923 154.382 L953.205 154.382 Z\" fill=\"#000000\" fill-rule=\"nonzero\" fill-opacity=\"1\" /><path clip-path=\"url(#clip190)\" d=\"M987.279 195.539 L987.279 198.849 L962.65 198.849 L962.65 195.539 L987.279 195.539 Z\" fill=\"#000000\" fill-rule=\"nonzero\" fill-opacity=\"1\" /><path clip-path=\"url(#clip190)\" d=\"M1009.94 162.738 L1009.94 166.72 Q1008.14 165.724 1006.31 165.238 Q1004.5 164.729 1002.65 164.729 Q998.506 164.729 996.214 167.368 Q993.923 169.984 993.923 174.729 Q993.923 179.474 996.214 182.113 Q998.506 184.729 1002.65 184.729 Q1004.5 184.729 1006.31 184.243 Q1008.14 183.733 1009.94 182.738 L1009.94 186.673 Q1008.16 187.507 1006.24 187.923 Q1004.34 188.34 1002.19 188.34 Q996.33 188.34 992.881 184.659 Q989.432 180.979 989.432 174.729 Q989.432 168.386 992.904 164.752 Q996.4 161.118 1002.46 161.118 Q1004.43 161.118 1006.31 161.535 Q1008.18 161.928 1009.94 162.738 Z\" fill=\"#000000\" fill-rule=\"nonzero\" fill-opacity=\"1\" /><path clip-path=\"url(#clip190)\" d=\"M1038.9 172.021 L1038.9 187.669 L1034.64 187.669 L1034.64 172.159 Q1034.64 168.479 1033.2 166.65 Q1031.77 164.822 1028.9 164.822 Q1025.45 164.822 1023.46 167.021 Q1021.47 169.22 1021.47 173.016 L1021.47 187.669 L1017.19 187.669 L1017.19 151.65 L1021.47 151.65 L1021.47 165.771 Q1023 163.433 1025.06 162.275 Q1027.14 161.118 1029.85 161.118 Q1034.32 161.118 1036.61 163.896 Q1038.9 166.65 1038.9 172.021 Z\" fill=\"#000000\" fill-rule=\"nonzero\" fill-opacity=\"1\" /><path clip-path=\"url(#clip190)\" d=\"M1047.39 161.743 L1051.65 161.743 L1051.65 187.669 L1047.39 187.669 L1047.39 161.743 M1047.39 151.65 L1051.65 151.65 L1051.65 157.044 L1047.39 157.044 L1047.39 151.65 Z\" fill=\"#000000\" fill-rule=\"nonzero\" fill-opacity=\"1\" /><path clip-path=\"url(#clip190)\" d=\"M1070.8 151.697 Q1067.7 157.021 1066.19 162.229 Q1064.69 167.437 1064.69 172.784 Q1064.69 178.132 1066.19 183.386 Q1067.72 188.618 1070.8 193.919 L1067.09 193.919 Q1063.62 188.479 1061.89 183.224 Q1060.17 177.97 1060.17 172.784 Q1060.17 167.622 1061.89 162.391 Q1063.6 157.16 1067.09 151.697 L1070.8 151.697 Z\" fill=\"#000000\" fill-rule=\"nonzero\" fill-opacity=\"1\" /><path clip-path=\"url(#clip190)\" d=\"M1094.08 165.724 Q1093.37 165.308 1092.51 165.122 Q1091.68 164.914 1090.66 164.914 Q1087.05 164.914 1085.1 167.275 Q1083.18 169.613 1083.18 174.011 L1083.18 187.669 L1078.9 187.669 L1078.9 161.743 L1083.18 161.743 L1083.18 165.771 Q1084.52 163.409 1086.68 162.275 Q1088.83 161.118 1091.91 161.118 Q1092.35 161.118 1092.88 161.187 Q1093.41 161.234 1094.06 161.349 L1094.08 165.724 Z\" fill=\"#000000\" fill-rule=\"nonzero\" fill-opacity=\"1\" /><path clip-path=\"url(#clip190)\" d=\"M1097.88 151.697 L1101.58 151.697 Q1105.06 157.16 1106.77 162.391 Q1108.51 167.622 1108.51 172.784 Q1108.51 177.97 1106.77 183.224 Q1105.06 188.479 1101.58 193.919 L1097.88 193.919 Q1100.96 188.618 1102.46 183.386 Q1103.99 178.132 1103.99 172.784 Q1103.99 167.437 1102.46 162.229 Q1100.96 157.021 1097.88 151.697 Z\" fill=\"#000000\" fill-rule=\"nonzero\" fill-opacity=\"1\" /></svg>\n"
      ],
      "text/html": [
       "<?xml version=\"1.0\" encoding=\"utf-8\"?>\n",
       "<svg xmlns=\"http://www.w3.org/2000/svg\" xmlns:xlink=\"http://www.w3.org/1999/xlink\" width=\"300\" height=\"200\" viewBox=\"0 0 1200 800\">\n",
       "<defs>\n",
       "  <clipPath id=\"clip240\">\n",
       "    <rect x=\"0\" y=\"0\" width=\"1200\" height=\"800\"/>\n",
       "  </clipPath>\n",
       "</defs>\n",
       "<path clip-path=\"url(#clip240)\" d=\"M0 800 L1200 800 L1200 0 L0 0  Z\" fill=\"#ffffff\" fill-rule=\"evenodd\" fill-opacity=\"1\"/>\n",
       "<defs>\n",
       "  <clipPath id=\"clip241\">\n",
       "    <rect x=\"240\" y=\"0\" width=\"841\" height=\"800\"/>\n",
       "  </clipPath>\n",
       "</defs>\n",
       "<path clip-path=\"url(#clip240)\" d=\"M157.121 631.18 L1152.76 631.18 L1152.76 47.2441 L157.121 47.2441  Z\" fill=\"#ffffff\" fill-rule=\"evenodd\" fill-opacity=\"1\"/>\n",
       "<defs>\n",
       "  <clipPath id=\"clip242\">\n",
       "    <rect x=\"157\" y=\"47\" width=\"997\" height=\"585\"/>\n",
       "  </clipPath>\n",
       "</defs>\n",
       "<polyline clip-path=\"url(#clip242)\" style=\"stroke:#000000; stroke-linecap:round; stroke-linejoin:round; stroke-width:2; stroke-opacity:0.1; fill:none\" points=\"289.664,631.18 289.664,47.2441 \"/>\n",
       "<polyline clip-path=\"url(#clip242)\" style=\"stroke:#000000; stroke-linecap:round; stroke-linejoin:round; stroke-width:2; stroke-opacity:0.1; fill:none\" points=\"498.392,631.18 498.392,47.2441 \"/>\n",
       "<polyline clip-path=\"url(#clip242)\" style=\"stroke:#000000; stroke-linecap:round; stroke-linejoin:round; stroke-width:2; stroke-opacity:0.1; fill:none\" points=\"707.121,631.18 707.121,47.2441 \"/>\n",
       "<polyline clip-path=\"url(#clip242)\" style=\"stroke:#000000; stroke-linecap:round; stroke-linejoin:round; stroke-width:2; stroke-opacity:0.1; fill:none\" points=\"915.849,631.18 915.849,47.2441 \"/>\n",
       "<polyline clip-path=\"url(#clip242)\" style=\"stroke:#000000; stroke-linecap:round; stroke-linejoin:round; stroke-width:2; stroke-opacity:0.1; fill:none\" points=\"1124.58,631.18 1124.58,47.2441 \"/>\n",
       "<polyline clip-path=\"url(#clip240)\" style=\"stroke:#000000; stroke-linecap:round; stroke-linejoin:round; stroke-width:4; stroke-opacity:1; fill:none\" points=\"157.121,631.18 1152.76,631.18 \"/>\n",
       "<polyline clip-path=\"url(#clip240)\" style=\"stroke:#000000; stroke-linecap:round; stroke-linejoin:round; stroke-width:4; stroke-opacity:1; fill:none\" points=\"289.664,631.18 289.664,612.282 \"/>\n",
       "<polyline clip-path=\"url(#clip240)\" style=\"stroke:#000000; stroke-linecap:round; stroke-linejoin:round; stroke-width:4; stroke-opacity:1; fill:none\" points=\"498.392,631.18 498.392,612.282 \"/>\n",
       "<polyline clip-path=\"url(#clip240)\" style=\"stroke:#000000; stroke-linecap:round; stroke-linejoin:round; stroke-width:4; stroke-opacity:1; fill:none\" points=\"707.121,631.18 707.121,612.282 \"/>\n",
       "<polyline clip-path=\"url(#clip240)\" style=\"stroke:#000000; stroke-linecap:round; stroke-linejoin:round; stroke-width:4; stroke-opacity:1; fill:none\" points=\"915.849,631.18 915.849,612.282 \"/>\n",
       "<polyline clip-path=\"url(#clip240)\" style=\"stroke:#000000; stroke-linecap:round; stroke-linejoin:round; stroke-width:4; stroke-opacity:1; fill:none\" points=\"1124.58,631.18 1124.58,612.282 \"/>\n",
       "<path clip-path=\"url(#clip240)\" d=\"M267.847 652.499 Q264.236 652.499 262.407 656.063 Q260.602 659.605 260.602 666.735 Q260.602 673.841 262.407 677.406 Q264.236 680.947 267.847 680.947 Q271.481 680.947 273.287 677.406 Q275.115 673.841 275.115 666.735 Q275.115 659.605 273.287 656.063 Q271.481 652.499 267.847 652.499 M267.847 648.795 Q273.657 648.795 276.713 653.401 Q279.791 657.985 279.791 666.735 Q279.791 675.461 276.713 680.068 Q273.657 684.651 267.847 684.651 Q262.037 684.651 258.958 680.068 Q255.902 675.461 255.902 666.735 Q255.902 657.985 258.958 653.401 Q262.037 648.795 267.847 648.795 Z\" fill=\"#000000\" fill-rule=\"nonzero\" fill-opacity=\"1\" /><path clip-path=\"url(#clip240)\" d=\"M288.009 678.1 L292.893 678.1 L292.893 683.98 L288.009 683.98 L288.009 678.1 Z\" fill=\"#000000\" fill-rule=\"nonzero\" fill-opacity=\"1\" /><path clip-path=\"url(#clip240)\" d=\"M307.106 680.045 L323.425 680.045 L323.425 683.98 L301.481 683.98 L301.481 680.045 Q304.143 677.29 308.726 672.66 Q313.333 668.008 314.513 666.665 Q316.759 664.142 317.638 662.406 Q318.541 660.647 318.541 658.957 Q318.541 656.202 316.597 654.466 Q314.675 652.73 311.573 652.73 Q309.374 652.73 306.921 653.494 Q304.49 654.258 301.712 655.809 L301.712 651.087 Q304.536 649.952 306.99 649.374 Q309.444 648.795 311.481 648.795 Q316.851 648.795 320.046 651.48 Q323.24 654.165 323.24 658.656 Q323.24 660.786 322.43 662.707 Q321.643 664.605 319.536 667.198 Q318.958 667.869 315.856 671.086 Q312.754 674.281 307.106 680.045 Z\" fill=\"#000000\" fill-rule=\"nonzero\" fill-opacity=\"1\" /><path clip-path=\"url(#clip240)\" d=\"M475.534 652.499 Q471.923 652.499 470.094 656.063 Q468.288 659.605 468.288 666.735 Q468.288 673.841 470.094 677.406 Q471.923 680.947 475.534 680.947 Q479.168 680.947 480.973 677.406 Q482.802 673.841 482.802 666.735 Q482.802 659.605 480.973 656.063 Q479.168 652.499 475.534 652.499 M475.534 648.795 Q481.344 648.795 484.399 653.401 Q487.478 657.985 487.478 666.735 Q487.478 675.461 484.399 680.068 Q481.344 684.651 475.534 684.651 Q469.723 684.651 466.645 680.068 Q463.589 675.461 463.589 666.735 Q463.589 657.985 466.645 653.401 Q469.723 648.795 475.534 648.795 Z\" fill=\"#000000\" fill-rule=\"nonzero\" fill-opacity=\"1\" /><path clip-path=\"url(#clip240)\" d=\"M495.696 678.1 L500.58 678.1 L500.58 683.98 L495.696 683.98 L495.696 678.1 Z\" fill=\"#000000\" fill-rule=\"nonzero\" fill-opacity=\"1\" /><path clip-path=\"url(#clip240)\" d=\"M523.612 653.494 L511.807 671.943 L523.612 671.943 L523.612 653.494 M522.385 649.42 L528.265 649.42 L528.265 671.943 L533.195 671.943 L533.195 675.832 L528.265 675.832 L528.265 683.98 L523.612 683.98 L523.612 675.832 L508.01 675.832 L508.01 671.318 L522.385 649.42 Z\" fill=\"#000000\" fill-rule=\"nonzero\" fill-opacity=\"1\" /><path clip-path=\"url(#clip240)\" d=\"M684.424 652.499 Q680.813 652.499 678.984 656.063 Q677.179 659.605 677.179 666.735 Q677.179 673.841 678.984 677.406 Q680.813 680.947 684.424 680.947 Q688.058 680.947 689.864 677.406 Q691.693 673.841 691.693 666.735 Q691.693 659.605 689.864 656.063 Q688.058 652.499 684.424 652.499 M684.424 648.795 Q690.234 648.795 693.29 653.401 Q696.368 657.985 696.368 666.735 Q696.368 675.461 693.29 680.068 Q690.234 684.651 684.424 684.651 Q678.614 684.651 675.535 680.068 Q672.48 675.461 672.48 666.735 Q672.48 657.985 675.535 653.401 Q678.614 648.795 684.424 648.795 Z\" fill=\"#000000\" fill-rule=\"nonzero\" fill-opacity=\"1\" /><path clip-path=\"url(#clip240)\" d=\"M704.586 678.1 L709.47 678.1 L709.47 683.98 L704.586 683.98 L704.586 678.1 Z\" fill=\"#000000\" fill-rule=\"nonzero\" fill-opacity=\"1\" /><path clip-path=\"url(#clip240)\" d=\"M730.234 664.836 Q727.086 664.836 725.234 666.989 Q723.405 669.142 723.405 672.892 Q723.405 676.619 725.234 678.795 Q727.086 680.947 730.234 680.947 Q733.382 680.947 735.211 678.795 Q737.063 676.619 737.063 672.892 Q737.063 669.142 735.211 666.989 Q733.382 664.836 730.234 664.836 M739.516 650.184 L739.516 654.443 Q737.757 653.61 735.952 653.17 Q734.169 652.73 732.41 652.73 Q727.78 652.73 725.327 655.855 Q722.896 658.98 722.549 665.299 Q723.915 663.286 725.975 662.221 Q728.035 661.133 730.512 661.133 Q735.72 661.133 738.729 664.304 Q741.762 667.452 741.762 672.892 Q741.762 678.216 738.614 681.434 Q735.465 684.651 730.234 684.651 Q724.239 684.651 721.067 680.068 Q717.896 675.461 717.896 666.735 Q717.896 658.54 721.785 653.679 Q725.674 648.795 732.225 648.795 Q733.984 648.795 735.766 649.142 Q737.572 649.489 739.516 650.184 Z\" fill=\"#000000\" fill-rule=\"nonzero\" fill-opacity=\"1\" /><path clip-path=\"url(#clip240)\" d=\"M893.28 652.499 Q889.669 652.499 887.84 656.063 Q886.034 659.605 886.034 666.735 Q886.034 673.841 887.84 677.406 Q889.669 680.947 893.28 680.947 Q896.914 680.947 898.72 677.406 Q900.548 673.841 900.548 666.735 Q900.548 659.605 898.72 656.063 Q896.914 652.499 893.28 652.499 M893.28 648.795 Q899.09 648.795 902.146 653.401 Q905.224 657.985 905.224 666.735 Q905.224 675.461 902.146 680.068 Q899.09 684.651 893.28 684.651 Q887.47 684.651 884.391 680.068 Q881.335 675.461 881.335 666.735 Q881.335 657.985 884.391 653.401 Q887.47 648.795 893.28 648.795 Z\" fill=\"#000000\" fill-rule=\"nonzero\" fill-opacity=\"1\" /><path clip-path=\"url(#clip240)\" d=\"M913.442 678.1 L918.326 678.1 L918.326 683.98 L913.442 683.98 L913.442 678.1 Z\" fill=\"#000000\" fill-rule=\"nonzero\" fill-opacity=\"1\" /><path clip-path=\"url(#clip240)\" d=\"M938.511 667.568 Q935.178 667.568 933.256 669.35 Q931.358 671.133 931.358 674.258 Q931.358 677.383 933.256 679.165 Q935.178 680.947 938.511 680.947 Q941.844 680.947 943.766 679.165 Q945.687 677.36 945.687 674.258 Q945.687 671.133 943.766 669.35 Q941.868 667.568 938.511 667.568 M933.835 665.577 Q930.826 664.836 929.136 662.776 Q927.469 660.716 927.469 657.753 Q927.469 653.61 930.409 651.202 Q933.372 648.795 938.511 648.795 Q943.673 648.795 946.613 651.202 Q949.553 653.61 949.553 657.753 Q949.553 660.716 947.863 662.776 Q946.196 664.836 943.21 665.577 Q946.59 666.364 948.465 668.656 Q950.363 670.948 950.363 674.258 Q950.363 679.281 947.284 681.966 Q944.229 684.651 938.511 684.651 Q932.793 684.651 929.715 681.966 Q926.659 679.281 926.659 674.258 Q926.659 670.948 928.557 668.656 Q930.456 666.364 933.835 665.577 M932.122 658.193 Q932.122 660.878 933.789 662.383 Q935.479 663.887 938.511 663.887 Q941.52 663.887 943.21 662.383 Q944.923 660.878 944.923 658.193 Q944.923 655.508 943.21 654.003 Q941.52 652.499 938.511 652.499 Q935.479 652.499 933.789 654.003 Q932.122 655.508 932.122 658.193 Z\" fill=\"#000000\" fill-rule=\"nonzero\" fill-opacity=\"1\" /><path clip-path=\"url(#clip240)\" d=\"M1091.73 680.045 L1099.37 680.045 L1099.37 653.679 L1091.06 655.346 L1091.06 651.087 L1099.32 649.42 L1104 649.42 L1104 680.045 L1111.64 680.045 L1111.64 683.98 L1091.73 683.98 L1091.73 680.045 Z\" fill=\"#000000\" fill-rule=\"nonzero\" fill-opacity=\"1\" /><path clip-path=\"url(#clip240)\" d=\"M1121.08 678.1 L1125.97 678.1 L1125.97 683.98 L1121.08 683.98 L1121.08 678.1 Z\" fill=\"#000000\" fill-rule=\"nonzero\" fill-opacity=\"1\" /><path clip-path=\"url(#clip240)\" d=\"M1146.15 652.499 Q1142.54 652.499 1140.71 656.063 Q1138.91 659.605 1138.91 666.735 Q1138.91 673.841 1140.71 677.406 Q1142.54 680.947 1146.15 680.947 Q1149.79 680.947 1151.59 677.406 Q1153.42 673.841 1153.42 666.735 Q1153.42 659.605 1151.59 656.063 Q1149.79 652.499 1146.15 652.499 M1146.15 648.795 Q1151.96 648.795 1155.02 653.401 Q1158.1 657.985 1158.1 666.735 Q1158.1 675.461 1155.02 680.068 Q1151.96 684.651 1146.15 684.651 Q1140.34 684.651 1137.26 680.068 Q1134.21 675.461 1134.21 666.735 Q1134.21 657.985 1137.26 653.401 Q1140.34 648.795 1146.15 648.795 Z\" fill=\"#000000\" fill-rule=\"nonzero\" fill-opacity=\"1\" /><path clip-path=\"url(#clip240)\" d=\"M665.378 727.87 Q664.392 727.297 663.214 727.043 Q662.068 726.756 660.668 726.756 Q655.702 726.756 653.029 730.003 Q650.387 733.218 650.387 739.265 L650.387 758.044 L644.499 758.044 L644.499 722.396 L650.387 722.396 L650.387 727.934 Q652.233 724.688 655.193 723.128 Q658.153 721.537 662.386 721.537 Q662.991 721.537 663.723 721.632 Q664.455 721.696 665.347 721.855 L665.378 727.87 Z\" fill=\"#000000\" fill-rule=\"nonzero\" fill-opacity=\"1\" /><polyline clip-path=\"url(#clip242)\" style=\"stroke:#000000; stroke-linecap:round; stroke-linejoin:round; stroke-width:2; stroke-opacity:0.1; fill:none\" points=\"157.121,614.653 1152.76,614.653 \"/>\n",
       "<polyline clip-path=\"url(#clip242)\" style=\"stroke:#000000; stroke-linecap:round; stroke-linejoin:round; stroke-width:2; stroke-opacity:0.1; fill:none\" points=\"157.121,476.657 1152.76,476.657 \"/>\n",
       "<polyline clip-path=\"url(#clip242)\" style=\"stroke:#000000; stroke-linecap:round; stroke-linejoin:round; stroke-width:2; stroke-opacity:0.1; fill:none\" points=\"157.121,338.661 1152.76,338.661 \"/>\n",
       "<polyline clip-path=\"url(#clip242)\" style=\"stroke:#000000; stroke-linecap:round; stroke-linejoin:round; stroke-width:2; stroke-opacity:0.1; fill:none\" points=\"157.121,200.665 1152.76,200.665 \"/>\n",
       "<polyline clip-path=\"url(#clip242)\" style=\"stroke:#000000; stroke-linecap:round; stroke-linejoin:round; stroke-width:2; stroke-opacity:0.1; fill:none\" points=\"157.121,62.6683 1152.76,62.6683 \"/>\n",
       "<polyline clip-path=\"url(#clip240)\" style=\"stroke:#000000; stroke-linecap:round; stroke-linejoin:round; stroke-width:4; stroke-opacity:1; fill:none\" points=\"157.121,631.18 157.121,47.2441 \"/>\n",
       "<polyline clip-path=\"url(#clip240)\" style=\"stroke:#000000; stroke-linecap:round; stroke-linejoin:round; stroke-width:4; stroke-opacity:1; fill:none\" points=\"157.121,614.653 176.019,614.653 \"/>\n",
       "<polyline clip-path=\"url(#clip240)\" style=\"stroke:#000000; stroke-linecap:round; stroke-linejoin:round; stroke-width:4; stroke-opacity:1; fill:none\" points=\"157.121,476.657 176.019,476.657 \"/>\n",
       "<polyline clip-path=\"url(#clip240)\" style=\"stroke:#000000; stroke-linecap:round; stroke-linejoin:round; stroke-width:4; stroke-opacity:1; fill:none\" points=\"157.121,338.661 176.019,338.661 \"/>\n",
       "<polyline clip-path=\"url(#clip240)\" style=\"stroke:#000000; stroke-linecap:round; stroke-linejoin:round; stroke-width:4; stroke-opacity:1; fill:none\" points=\"157.121,200.665 176.019,200.665 \"/>\n",
       "<polyline clip-path=\"url(#clip240)\" style=\"stroke:#000000; stroke-linecap:round; stroke-linejoin:round; stroke-width:4; stroke-opacity:1; fill:none\" points=\"157.121,62.6683 176.019,62.6683 \"/>\n",
       "<path clip-path=\"url(#clip240)\" d=\"M127.177 600.452 Q123.566 600.452 121.737 604.017 Q119.932 607.558 119.932 614.688 Q119.932 621.795 121.737 625.359 Q123.566 628.901 127.177 628.901 Q130.811 628.901 132.617 625.359 Q134.445 621.795 134.445 614.688 Q134.445 607.558 132.617 604.017 Q130.811 600.452 127.177 600.452 M127.177 596.748 Q132.987 596.748 136.043 601.355 Q139.121 605.938 139.121 614.688 Q139.121 623.415 136.043 628.021 Q132.987 632.605 127.177 632.605 Q121.367 632.605 118.288 628.021 Q115.233 623.415 115.233 614.688 Q115.233 605.938 118.288 601.355 Q121.367 596.748 127.177 596.748 Z\" fill=\"#000000\" fill-rule=\"nonzero\" fill-opacity=\"1\" /><path clip-path=\"url(#clip240)\" d=\"M92.0382 490.002 L108.358 490.002 L108.358 493.937 L86.4133 493.937 L86.4133 490.002 Q89.0753 487.247 93.6586 482.618 Q98.2651 477.965 99.4456 476.622 Q101.691 474.099 102.571 472.363 Q103.473 470.604 103.473 468.914 Q103.473 466.159 101.529 464.423 Q99.6076 462.687 96.5058 462.687 Q94.3067 462.687 91.8531 463.451 Q89.4225 464.215 86.6447 465.766 L86.6447 461.044 Q89.4688 459.909 91.9225 459.331 Q94.3762 458.752 96.4132 458.752 Q101.784 458.752 104.978 461.437 Q108.172 464.122 108.172 468.613 Q108.172 470.743 107.362 472.664 Q106.575 474.562 104.469 477.155 Q103.89 477.826 100.788 481.044 Q97.6864 484.238 92.0382 490.002 Z\" fill=\"#000000\" fill-rule=\"nonzero\" fill-opacity=\"1\" /><path clip-path=\"url(#clip240)\" d=\"M118.219 459.377 L136.575 459.377 L136.575 463.312 L122.501 463.312 L122.501 471.784 Q123.52 471.437 124.538 471.275 Q125.557 471.09 126.575 471.09 Q132.362 471.09 135.742 474.261 Q139.121 477.433 139.121 482.849 Q139.121 488.428 135.649 491.53 Q132.177 494.608 125.857 494.608 Q123.682 494.608 121.413 494.238 Q119.168 493.868 116.76 493.127 L116.76 488.428 Q118.844 489.562 121.066 490.118 Q123.288 490.673 125.765 490.673 Q129.77 490.673 132.107 488.567 Q134.445 486.46 134.445 482.849 Q134.445 479.238 132.107 477.132 Q129.77 475.025 125.765 475.025 Q123.89 475.025 122.015 475.442 Q120.163 475.858 118.219 476.738 L118.219 459.377 Z\" fill=\"#000000\" fill-rule=\"nonzero\" fill-opacity=\"1\" /><path clip-path=\"url(#clip240)\" d=\"M87.0614 321.381 L105.418 321.381 L105.418 325.316 L91.3438 325.316 L91.3438 333.788 Q92.3623 333.441 93.3808 333.279 Q94.3993 333.094 95.4178 333.094 Q101.205 333.094 104.584 336.265 Q107.964 339.436 107.964 344.853 Q107.964 350.432 104.492 353.533 Q101.02 356.612 94.7003 356.612 Q92.5243 356.612 90.2558 356.242 Q88.0105 355.871 85.6031 355.131 L85.6031 350.432 Q87.6864 351.566 89.9086 352.121 Q92.1308 352.677 94.6077 352.677 Q98.6123 352.677 100.95 350.57 Q103.288 348.464 103.288 344.853 Q103.288 341.242 100.95 339.135 Q98.6123 337.029 94.6077 337.029 Q92.7327 337.029 90.8577 337.446 Q89.0058 337.862 87.0614 338.742 L87.0614 321.381 Z\" fill=\"#000000\" fill-rule=\"nonzero\" fill-opacity=\"1\" /><path clip-path=\"url(#clip240)\" d=\"M127.177 324.459 Q123.566 324.459 121.737 328.024 Q119.932 331.566 119.932 338.696 Q119.932 345.802 121.737 349.367 Q123.566 352.908 127.177 352.908 Q130.811 352.908 132.617 349.367 Q134.445 345.802 134.445 338.696 Q134.445 331.566 132.617 328.024 Q130.811 324.459 127.177 324.459 M127.177 320.756 Q132.987 320.756 136.043 325.362 Q139.121 329.946 139.121 338.696 Q139.121 347.422 136.043 352.029 Q132.987 356.612 127.177 356.612 Q121.367 356.612 118.288 352.029 Q115.233 347.422 115.233 338.696 Q115.233 329.946 118.288 325.362 Q121.367 320.756 127.177 320.756 Z\" fill=\"#000000\" fill-rule=\"nonzero\" fill-opacity=\"1\" /><path clip-path=\"url(#clip240)\" d=\"M86.8299 183.385 L109.052 183.385 L109.052 185.375 L96.5058 217.945 L91.6216 217.945 L103.427 187.32 L86.8299 187.32 L86.8299 183.385 Z\" fill=\"#000000\" fill-rule=\"nonzero\" fill-opacity=\"1\" /><path clip-path=\"url(#clip240)\" d=\"M118.219 183.385 L136.575 183.385 L136.575 187.32 L122.501 187.32 L122.501 195.792 Q123.52 195.445 124.538 195.283 Q125.557 195.097 126.575 195.097 Q132.362 195.097 135.742 198.269 Q139.121 201.44 139.121 206.857 Q139.121 212.435 135.649 215.537 Q132.177 218.616 125.857 218.616 Q123.682 218.616 121.413 218.245 Q119.168 217.875 116.76 217.134 L116.76 212.435 Q118.844 213.57 121.066 214.125 Q123.288 214.681 125.765 214.681 Q129.77 214.681 132.107 212.574 Q134.445 210.468 134.445 206.857 Q134.445 203.246 132.107 201.139 Q129.77 199.033 125.765 199.033 Q123.89 199.033 122.015 199.449 Q120.163 199.866 118.219 200.746 L118.219 183.385 Z\" fill=\"#000000\" fill-rule=\"nonzero\" fill-opacity=\"1\" /><path clip-path=\"url(#clip240)\" d=\"M57.6634 76.0131 L65.3023 76.0131 L65.3023 49.6475 L56.9921 51.3142 L56.9921 47.0549 L65.256 45.3883 L69.9319 45.3883 L69.9319 76.0131 L77.5707 76.0131 L77.5707 79.9483 L57.6634 79.9483 L57.6634 76.0131 Z\" fill=\"#000000\" fill-rule=\"nonzero\" fill-opacity=\"1\" /><path clip-path=\"url(#clip240)\" d=\"M97.0151 48.4669 Q93.404 48.4669 91.5753 52.0317 Q89.7697 55.5734 89.7697 62.703 Q89.7697 69.8094 91.5753 73.3742 Q93.404 76.9159 97.0151 76.9159 Q100.649 76.9159 102.455 73.3742 Q104.284 69.8094 104.284 62.703 Q104.284 55.5734 102.455 52.0317 Q100.649 48.4669 97.0151 48.4669 M97.0151 44.7633 Q102.825 44.7633 105.881 49.3697 Q108.959 53.953 108.959 62.703 Q108.959 71.4298 105.881 76.0362 Q102.825 80.6196 97.0151 80.6196 Q91.2049 80.6196 88.1262 76.0362 Q85.0707 71.4298 85.0707 62.703 Q85.0707 53.953 88.1262 49.3697 Q91.2049 44.7633 97.0151 44.7633 Z\" fill=\"#000000\" fill-rule=\"nonzero\" fill-opacity=\"1\" /><path clip-path=\"url(#clip240)\" d=\"M127.177 48.4669 Q123.566 48.4669 121.737 52.0317 Q119.932 55.5734 119.932 62.703 Q119.932 69.8094 121.737 73.3742 Q123.566 76.9159 127.177 76.9159 Q130.811 76.9159 132.617 73.3742 Q134.445 69.8094 134.445 62.703 Q134.445 55.5734 132.617 52.0317 Q130.811 48.4669 127.177 48.4669 M127.177 44.7633 Q132.987 44.7633 136.043 49.3697 Q139.121 53.953 139.121 62.703 Q139.121 71.4298 136.043 76.0362 Q132.987 80.6196 127.177 80.6196 Q121.367 80.6196 118.288 76.0362 Q115.233 71.4298 115.233 62.703 Q115.233 53.953 118.288 49.3697 Q121.367 44.7633 127.177 44.7633 Z\" fill=\"#000000\" fill-rule=\"nonzero\" fill-opacity=\"1\" /><polyline clip-path=\"url(#clip242)\" style=\"stroke:#009af9; stroke-linecap:round; stroke-linejoin:round; stroke-width:4; stroke-opacity:1; fill:none\" points=\"185.3,63.7706 195.736,159.296 206.172,231.968 216.609,288.537 227.045,333.43 237.482,369.653 247.918,399.303 258.355,423.88 268.791,444.477 279.227,461.91 289.664,476.795 300.1,489.606 310.537,500.71 320.973,510.399 331.41,518.902 341.846,526.406 352.282,533.062 362.719,538.991 373.155,544.297 383.592,549.064 394.028,553.363 404.464,557.252 414.901,560.782 425.337,563.997 435.774,566.932 446.21,569.619 456.647,572.086 467.083,574.355 477.519,576.447 487.956,578.381 498.392,580.172 508.829,581.833 519.265,583.377 529.702,584.814 540.138,586.155 550.574,587.407 561.011,588.578 571.447,589.676 581.884,590.706 592.32,591.673 602.757,592.583 613.193,593.44 623.629,594.248 634.066,595.01 644.502,595.731 654.939,596.413 665.375,597.058 675.811,597.67 686.248,598.25 696.684,598.802 707.121,599.326 717.557,599.824 727.994,600.298 738.43,600.75 748.866,601.181 759.303,601.593 769.739,601.985 780.176,602.361 790.612,602.719 801.049,603.063 811.485,603.392 821.921,603.707 832.358,604.008 842.794,604.298 853.231,604.576 863.667,604.843 874.103,605.099 884.54,605.346 894.976,605.583 905.413,605.811 915.849,606.031 926.286,606.242 936.722,606.446 947.158,606.643 957.595,606.832 968.031,607.015 978.468,607.192 988.904,607.362 999.341,607.527 1009.78,607.686 1020.21,607.84 1030.65,607.989 1041.09,608.133 1051.52,608.273 1061.96,608.408 1072.4,608.538 1082.83,608.665 1093.27,608.788 1103.7,608.907 1114.14,609.023 1124.58,609.135 \"/>\n",
       "<polyline clip-path=\"url(#clip242)\" style=\"stroke:#e26f46; stroke-linecap:round; stroke-linejoin:round; stroke-width:4; stroke-opacity:1; fill:none\" points=\"185.3,614.653 195.736,609.645 206.172,605.47 216.609,601.938 227.045,598.909 237.482,596.284 247.918,593.988 258.355,591.961 268.791,590.159 279.227,588.547 289.664,587.095 300.1,585.782 310.537,584.589 320.973,583.499 331.41,582.5 341.846,581.581 352.282,580.732 362.719,579.946 373.155,579.217 383.592,578.537 394.028,577.903 404.464,577.31 414.901,576.754 425.337,576.232 435.774,575.74 446.21,575.276 456.647,574.839 467.083,574.424 477.519,574.032 487.956,573.66 498.392,573.306 508.829,572.97 519.265,572.649 529.702,572.344 540.138,572.052 550.574,571.774 561.011,571.507 571.447,571.252 581.884,571.007 592.32,570.773 602.757,570.547 613.193,570.331 623.629,570.123 634.066,569.923 644.502,569.73 654.939,569.544 665.375,569.365 675.811,569.192 686.248,569.025 696.684,568.864 707.121,568.708 717.557,568.557 727.994,568.412 738.43,568.27 748.866,568.133 759.303,568.001 769.739,567.872 780.176,567.747 790.612,567.626 801.049,567.509 811.485,567.394 821.921,567.283 832.358,567.175 842.794,567.07 853.231,566.968 863.667,566.869 874.103,566.772 884.54,566.678 894.976,566.586 905.413,566.496 915.849,566.409 926.286,566.324 936.722,566.241 947.158,566.16 957.595,566.08 968.031,566.003 978.468,565.928 988.904,565.854 999.341,565.782 1009.78,565.711 1020.21,565.642 1030.65,565.575 1041.09,565.509 1051.52,565.445 1061.96,565.382 1072.4,565.32 1082.83,565.259 1093.27,565.2 1103.7,565.142 1114.14,565.085 1124.58,565.029 \"/>\n",
       "<path clip-path=\"url(#clip240)\" d=\"M817.274 222.229 L1119.57 222.229 L1119.57 66.7086 L817.274 66.7086  Z\" fill=\"#ffffff\" fill-rule=\"evenodd\" fill-opacity=\"1\"/>\n",
       "<polyline clip-path=\"url(#clip240)\" style=\"stroke:#000000; stroke-linecap:round; stroke-linejoin:round; stroke-width:4; stroke-opacity:1; fill:none\" points=\"817.274,222.229 1119.57,222.229 1119.57,66.7086 817.274,66.7086 817.274,222.229 \"/>\n",
       "<polyline clip-path=\"url(#clip240)\" style=\"stroke:#009af9; stroke-linecap:round; stroke-linejoin:round; stroke-width:4; stroke-opacity:1; fill:none\" points=\"828.337,118.549 894.712,118.549 \"/>\n",
       "<path clip-path=\"url(#clip240)\" d=\"M926.284 110.898 L926.284 114.88 Q924.479 113.884 922.65 113.398 Q920.844 112.889 918.993 112.889 Q914.849 112.889 912.557 115.528 Q910.266 118.144 910.266 122.889 Q910.266 127.634 912.557 130.273 Q914.849 132.889 918.993 132.889 Q920.844 132.889 922.65 132.403 Q924.479 131.893 926.284 130.898 L926.284 134.833 Q924.502 135.667 922.581 136.083 Q920.682 136.5 918.53 136.5 Q912.673 136.5 909.224 132.819 Q905.775 129.139 905.775 122.889 Q905.775 116.546 909.247 112.912 Q912.743 109.278 918.807 109.278 Q920.775 109.278 922.65 109.695 Q924.525 110.088 926.284 110.898 Z\" fill=\"#000000\" fill-rule=\"nonzero\" fill-opacity=\"1\" /><path clip-path=\"url(#clip240)\" d=\"M955.242 120.181 L955.242 135.829 L950.983 135.829 L950.983 120.319 Q950.983 116.639 949.548 114.81 Q948.113 112.982 945.242 112.982 Q941.793 112.982 939.803 115.181 Q937.812 117.38 937.812 121.176 L937.812 135.829 L933.53 135.829 L933.53 99.8103 L937.812 99.8103 L937.812 113.931 Q939.34 111.593 941.4 110.435 Q943.483 109.278 946.192 109.278 Q950.659 109.278 952.951 112.056 Q955.242 114.81 955.242 120.181 Z\" fill=\"#000000\" fill-rule=\"nonzero\" fill-opacity=\"1\" /><path clip-path=\"url(#clip240)\" d=\"M963.738 109.903 L967.997 109.903 L967.997 135.829 L963.738 135.829 L963.738 109.903 M963.738 99.8103 L967.997 99.8103 L967.997 105.204 L963.738 105.204 L963.738 99.8103 Z\" fill=\"#000000\" fill-rule=\"nonzero\" fill-opacity=\"1\" /><path clip-path=\"url(#clip240)\" d=\"M987.14 99.8566 Q984.039 105.181 982.534 110.389 Q981.029 115.597 981.029 120.944 Q981.029 126.292 982.534 131.546 Q984.062 136.778 987.14 142.079 L983.437 142.079 Q979.965 136.639 978.228 131.384 Q976.515 126.13 976.515 120.944 Q976.515 115.782 978.228 110.551 Q979.941 105.32 983.437 99.8566 L987.14 99.8566 Z\" fill=\"#000000\" fill-rule=\"nonzero\" fill-opacity=\"1\" /><path clip-path=\"url(#clip240)\" d=\"M1010.43 113.884 Q1009.71 113.468 1008.85 113.282 Q1008.02 113.074 1007 113.074 Q1003.39 113.074 1001.45 115.435 Q999.525 117.773 999.525 122.171 L999.525 135.829 L995.242 135.829 L995.242 109.903 L999.525 109.903 L999.525 113.931 Q1000.87 111.569 1003.02 110.435 Q1005.17 109.278 1008.25 109.278 Q1008.69 109.278 1009.22 109.347 Q1009.76 109.394 1010.4 109.509 L1010.43 113.884 Z\" fill=\"#000000\" fill-rule=\"nonzero\" fill-opacity=\"1\" /><path clip-path=\"url(#clip240)\" d=\"M1014.22 99.8566 L1017.93 99.8566 Q1021.4 105.32 1023.11 110.551 Q1024.85 115.782 1024.85 120.944 Q1024.85 126.13 1023.11 131.384 Q1021.4 136.639 1017.93 142.079 L1014.22 142.079 Q1017.3 136.778 1018.81 131.546 Q1020.33 126.292 1020.33 120.944 Q1020.33 115.597 1018.81 110.389 Q1017.3 105.181 1014.22 99.8566 Z\" fill=\"#000000\" fill-rule=\"nonzero\" fill-opacity=\"1\" /><polyline clip-path=\"url(#clip240)\" style=\"stroke:#e26f46; stroke-linecap:round; stroke-linejoin:round; stroke-width:4; stroke-opacity:1; fill:none\" points=\"828.337,170.389 894.712,170.389 \"/>\n",
       "<path clip-path=\"url(#clip240)\" d=\"M905.775 161.743 L910.034 161.743 L910.034 187.669 L905.775 187.669 L905.775 161.743 M905.775 151.65 L910.034 151.65 L910.034 157.044 L905.775 157.044 L905.775 151.65 Z\" fill=\"#000000\" fill-rule=\"nonzero\" fill-opacity=\"1\" /><path clip-path=\"url(#clip240)\" d=\"M940.497 172.021 L940.497 187.669 L936.238 187.669 L936.238 172.159 Q936.238 168.479 934.803 166.65 Q933.368 164.822 930.497 164.822 Q927.048 164.822 925.057 167.021 Q923.067 169.22 923.067 173.016 L923.067 187.669 L918.784 187.669 L918.784 161.743 L923.067 161.743 L923.067 165.771 Q924.594 163.433 926.655 162.275 Q928.738 161.118 931.446 161.118 Q935.914 161.118 938.205 163.896 Q940.497 166.65 940.497 172.021 Z\" fill=\"#000000\" fill-rule=\"nonzero\" fill-opacity=\"1\" /><path clip-path=\"url(#clip240)\" d=\"M953.205 154.382 L953.205 161.743 L961.978 161.743 L961.978 165.053 L953.205 165.053 L953.205 179.127 Q953.205 182.298 954.062 183.201 Q954.941 184.104 957.604 184.104 L961.978 184.104 L961.978 187.669 L957.604 187.669 Q952.673 187.669 950.798 185.84 Q948.923 183.988 948.923 179.127 L948.923 165.053 L945.798 165.053 L945.798 161.743 L948.923 161.743 L948.923 154.382 L953.205 154.382 Z\" fill=\"#000000\" fill-rule=\"nonzero\" fill-opacity=\"1\" /><path clip-path=\"url(#clip240)\" d=\"M987.279 195.539 L987.279 198.849 L962.65 198.849 L962.65 195.539 L987.279 195.539 Z\" fill=\"#000000\" fill-rule=\"nonzero\" fill-opacity=\"1\" /><path clip-path=\"url(#clip240)\" d=\"M1009.94 162.738 L1009.94 166.72 Q1008.14 165.724 1006.31 165.238 Q1004.5 164.729 1002.65 164.729 Q998.506 164.729 996.214 167.368 Q993.923 169.984 993.923 174.729 Q993.923 179.474 996.214 182.113 Q998.506 184.729 1002.65 184.729 Q1004.5 184.729 1006.31 184.243 Q1008.14 183.733 1009.94 182.738 L1009.94 186.673 Q1008.16 187.507 1006.24 187.923 Q1004.34 188.34 1002.19 188.34 Q996.33 188.34 992.881 184.659 Q989.432 180.979 989.432 174.729 Q989.432 168.386 992.904 164.752 Q996.4 161.118 1002.46 161.118 Q1004.43 161.118 1006.31 161.535 Q1008.18 161.928 1009.94 162.738 Z\" fill=\"#000000\" fill-rule=\"nonzero\" fill-opacity=\"1\" /><path clip-path=\"url(#clip240)\" d=\"M1038.9 172.021 L1038.9 187.669 L1034.64 187.669 L1034.64 172.159 Q1034.64 168.479 1033.2 166.65 Q1031.77 164.822 1028.9 164.822 Q1025.45 164.822 1023.46 167.021 Q1021.47 169.22 1021.47 173.016 L1021.47 187.669 L1017.19 187.669 L1017.19 151.65 L1021.47 151.65 L1021.47 165.771 Q1023 163.433 1025.06 162.275 Q1027.14 161.118 1029.85 161.118 Q1034.32 161.118 1036.61 163.896 Q1038.9 166.65 1038.9 172.021 Z\" fill=\"#000000\" fill-rule=\"nonzero\" fill-opacity=\"1\" /><path clip-path=\"url(#clip240)\" d=\"M1047.39 161.743 L1051.65 161.743 L1051.65 187.669 L1047.39 187.669 L1047.39 161.743 M1047.39 151.65 L1051.65 151.65 L1051.65 157.044 L1047.39 157.044 L1047.39 151.65 Z\" fill=\"#000000\" fill-rule=\"nonzero\" fill-opacity=\"1\" /><path clip-path=\"url(#clip240)\" d=\"M1070.8 151.697 Q1067.7 157.021 1066.19 162.229 Q1064.69 167.437 1064.69 172.784 Q1064.69 178.132 1066.19 183.386 Q1067.72 188.618 1070.8 193.919 L1067.09 193.919 Q1063.62 188.479 1061.89 183.224 Q1060.17 177.97 1060.17 172.784 Q1060.17 167.622 1061.89 162.391 Q1063.6 157.16 1067.09 151.697 L1070.8 151.697 Z\" fill=\"#000000\" fill-rule=\"nonzero\" fill-opacity=\"1\" /><path clip-path=\"url(#clip240)\" d=\"M1094.08 165.724 Q1093.37 165.308 1092.51 165.122 Q1091.68 164.914 1090.66 164.914 Q1087.05 164.914 1085.1 167.275 Q1083.18 169.613 1083.18 174.011 L1083.18 187.669 L1078.9 187.669 L1078.9 161.743 L1083.18 161.743 L1083.18 165.771 Q1084.52 163.409 1086.68 162.275 Q1088.83 161.118 1091.91 161.118 Q1092.35 161.118 1092.88 161.187 Q1093.41 161.234 1094.06 161.349 L1094.08 165.724 Z\" fill=\"#000000\" fill-rule=\"nonzero\" fill-opacity=\"1\" /><path clip-path=\"url(#clip240)\" d=\"M1097.88 151.697 L1101.58 151.697 Q1105.06 157.16 1106.77 162.391 Q1108.51 167.622 1108.51 172.784 Q1108.51 177.97 1106.77 183.224 Q1105.06 188.479 1101.58 193.919 L1097.88 193.919 Q1100.96 188.618 1102.46 183.386 Q1103.99 178.132 1103.99 172.784 Q1103.99 167.437 1102.46 162.229 Q1100.96 157.021 1097.88 151.697 Z\" fill=\"#000000\" fill-rule=\"nonzero\" fill-opacity=\"1\" /></svg>\n"
      ]
     },
     "metadata": {},
     "output_type": "display_data"
    }
   ],
   "source": [
    "# plot chi\n",
    "r = 0.1:0.01:1\n",
    "# set plot size\n",
    "plot(r, chi.(r), label=\"chi(r)\", xlabel=\"r\")\n",
    "# plot the integral, use different y axis\n",
    "plot!(r, int_chi.(0.1, r), label=\"int_chi(r)\")\n",
    "plot!(size=(300, 200))"
   ]
  },
  {
   "cell_type": "code",
   "execution_count": 18,
   "metadata": {},
   "outputs": [
    {
     "ename": "Base.Meta.ParseError",
     "evalue": "ParseError:\n# Error @ c:\\Users\\andri\\projects\\computational-methods-for-radiative-transfer\\mcrt.ipynb:38:19\n    end\r\n    p.absorbed = !.pescaped .&& (p.absorbed .|| is_absorbed)\r\n#                 ╙ ── invalid identifier",
     "output_type": "error",
     "traceback": [
      "ParseError:\n",
      "# Error @ c:\\Users\\andri\\projects\\computational-methods-for-radiative-transfer\\mcrt.ipynb:38:19\n",
      "    end\r\n",
      "    p.absorbed = !.pescaped .&& (p.absorbed .|| is_absorbed)\r\n",
      "#                 ╙ ── invalid identifier\n",
      "\n",
      "Stacktrace:\n",
      " [1] top-level scope\n",
      "   @ c:\\Users\\andri\\projects\\computational-methods-for-radiative-transfer\\mcrt.ipynb:38"
     ]
    }
   ],
   "source": [
    "struct Params\n",
    "    # scattering coefficient\n",
    "    chi_scattering::Float64\n",
    "    # absorbtion coefficient\n",
    "    chi_absorbtion::Float64\n",
    "    # boundary of the domain\n",
    "    boundary::Float64\n",
    "    # enable scattering -> Drawing new directions\n",
    "    enable_scattering::Bool\n",
    "end\n",
    "\n",
    "function event(p::PP, params::Params)::Nothing\n",
    "\n",
    "    N = size(p.pos)[1]\n",
    "\n",
    "    # sample optical depth to next event\n",
    "    tau_to_next = -log.(rand(Float64, N))\n",
    "\n",
    "    # We do not require a grid based approximation here as we have a smooth function available\n",
    "    chi_total = 0.6\n",
    "\n",
    "    # Invert the optical depth to get the phyiscal distance. \n",
    "    # Note that this is an approximation, as we cannot invert the integral over chi as there is no unique solution (?)\n",
    "    l_to_next = tau_to_next ./ chi_total\n",
    "\n",
    "    # Decide if packets crossed boundaries\n",
    "    escaped = (p.pos .> params.boundary) .|| (p.pos .< -params.boundary)\n",
    "\n",
    "    # Decide if packets are scattered or absorbed   \n",
    "    is_absorbed = rand(N) .< (params.chi_absorbtion / (params.chi_absorbtion + params.chi_scattering))\n",
    "\n",
    "    \n",
    "    # Update the state of the packets\n",
    "    p.pos .+= l_to_next .* p.mu\n",
    "    if params.enable_scattering\n",
    "        p.mu = rand(Float64, N) .* .2  .- 1\n",
    "    end\n",
    "    p.absorbed = !.pescaped .&& (p.absorbed .|| is_absorbed)\n",
    "    p.escaped = p.escaped .|| escaped\n",
    "\n",
    "    return nothing\n",
    "    \n",
    "end"
   ]
  },
  {
   "cell_type": "code",
   "execution_count": 23,
   "metadata": {},
   "outputs": [
    {
     "data": {
      "text/plain": [
       "mcrt (generic function with 1 method)"
      ]
     },
     "metadata": {},
     "output_type": "display_data"
    }
   ],
   "source": [
    "function mcrt(\n",
    "    N::Int64, \n",
    "    matter_density_profile::Function,\n",
    "    params::Params,\n",
    "    ) :: Float64\n",
    "\n",
    "\n",
    "    println(\"Initalizing packets...\")\n",
    "    radius = 1.0\n",
    "    # Initialize the packets\n",
    "    pp = PP(\n",
    "        radius .* rand(Float64, N) .^3,\n",
    "        rand(Float64, N) .* 2 .- 1,\n",
    "        zeros(Bool, N),\n",
    "        zeros(Bool, N),\n",
    "    )\n",
    "\n",
    "    println(\"Starting simulation...\")\n",
    "    # Loop over the packets\n",
    "    while any(.!(pp.absorbed .|| pp.escaped))\n",
    "        println(\"Number of escaped packets: \", sum(pp.escaped) / N)\n",
    "        println(\"Number of absorbed packets: \", sum(pp.absorbed) / N)\n",
    "        event(pp, params)\n",
    "    end\n",
    "\n",
    "    return sum(pp.escaped) / N\n",
    "end"
   ]
  },
  {
   "cell_type": "code",
   "execution_count": 30,
   "metadata": {},
   "outputs": [
    {
     "name": "stdout",
     "output_type": "stream",
     "text": [
      "Initalizing packets...\n",
      "Starting simulation...\n",
      "Number of escaped packets: 0.0\n",
      "Number of absorbed packets: 0.0\n",
      "Number of escaped packets: 0.53463\n",
      "Number of absorbed packets: 0.40098\n",
      "Number of escaped packets: 0.91107\n",
      "Number of absorbed packets: 0.64275\n",
      "Number of escaped packets: 0.99405\n",
      "Number of absorbed packets: 0.78634\n",
      "Number of escaped packets: 0.99982\n",
      "Number of absorbed packets: 0.8717\n",
      "Escape probability: 1.0\n"
     ]
    }
   ],
   "source": [
    "params = Params(\n",
    "    0.6,\n",
    "    0.4,\n",
    "    0.1,\n",
    "    true\n",
    ")\n",
    "\n",
    "esc_prob = mcrt(\n",
    "    100000,\n",
    "    x -> 1 / (x + 1e-6)^2,\n",
    "    params\n",
    ")\n",
    "\n",
    "\n",
    "\n",
    "println(\"Escape probability: \", esc_prob)"
   ]
  },
  {
   "cell_type": "code",
   "execution_count": null,
   "metadata": {},
   "outputs": [],
   "source": []
  }
 ],
 "metadata": {
  "kernelspec": {
   "display_name": "Julia 1.10.3",
   "language": "julia",
   "name": "julia-1.10"
  },
  "language_info": {
   "file_extension": ".jl",
   "mimetype": "application/julia",
   "name": "julia",
   "version": "1.10.3"
  }
 },
 "nbformat": 4,
 "nbformat_minor": 2
}
