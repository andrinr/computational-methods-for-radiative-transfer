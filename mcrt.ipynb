{
 "cells": [
  {
   "cell_type": "markdown",
   "metadata": {},
   "source": [
    "# Monte Carlo Radiative Transfer\n",
    "\n",
    "## Background\n",
    "\n",
    "### Important Variables\n",
    "\n",
    "- Specific Intensity $I_v$ or $I(\\mathbf{x}, t, \\nu)$\n",
    "- $\\mathbf{x}$ position in space\n",
    "- $\\mu$ propagation direction\n",
    "- $t$ time\n",
    "- $\\nu$ frequency\n",
    "- $\\chi_a$ absorption coefficient\n",
    "- $\\chi_s$ scattering coefficient\n",
    "- $\\chi_t = \\chi_a + \\chi_s$ total extinction coefficient or opacity\n",
    "\n",
    "The radiative transfer equation describes the propagation of light through a medium. Let us start by assuming the light propagates through empty space then\n",
    "\n",
    "$$\n",
    "\\frac{dI_v}{ds} = 0\n",
    "$$\n",
    "\n",
    "where $I$ is the intensity of light and $s$ is the distance traveled. Let us add a radiation absorbing medium to the mix. The radiative transfer equation then becomes\n",
    "\n",
    "$$\n",
    "\\frac{dI_v}{ds} = -\\alpha_v I_v\n",
    "$$\n",
    "\n",
    "where $\\alpha$ is the *fractioanl depletion coefficient* per path length. We can define the optical depth $\\tau$ as\n",
    "\n",
    "$$\n",
    "d \\tau_v = -\\alpha_v ds\n",
    "$$\n",
    "\n",
    "and the radiative transfer equation becomes\n",
    "\n",
    "$$\n",
    "\\frac{dI_v}{d\\tau_v} = -I_v\n",
    "$$"
   ]
  },
  {
   "cell_type": "markdown",
   "metadata": {},
   "source": [
    "However radiation can also travel through a radiation emitting medium. The radiative transfer equation then becomes\n",
    "\n",
    "$$\n",
    "\\frac{dI_v}{ds} = -\\alpha_v I_v + j_v\n",
    "$$\n",
    "\n",
    "where $j$ is the *emission coefficient*. We can also define it in terms of the optical depth\n",
    "\n",
    "$$\n",
    "\\frac{dI_v}{d\\tau_v} = \\frac{j_v}{\\alpha_v} - I_v.\n",
    "$$\n",
    "\n",
    "We then define the source function as \n",
    "\n",
    "$$\n",
    "S_v = \\frac{j_v}{\\alpha_v}\n",
    "$$\n",
    "\n",
    "and the radiative transfer equation becomes\n",
    "\n",
    "$$\n",
    "\\frac{dI_v}{d\\tau_v} = S_v - I_v.\n",
    "$$"
   ]
  },
  {
   "cell_type": "markdown",
   "metadata": {},
   "source": [
    "## MCRT \n",
    "\n",
    "We can simulate the radiative transfer equation using Monte Carlo methods. We leverage an abstraction called photon packets, or machine photons, where a number of photons are grouped together. The photons are described by their position, direction, frequency, energy and weight. Over the course of the simulation, each photon packet continously accumulates optical depth. Hence contrary to classical simulations, we do not integrate over time but over optical depth.\n",
    "\n"
   ]
  },
  {
   "cell_type": "markdown",
   "metadata": {},
   "source": [
    "We treat interactions with the medium as discrete interaction events, hence the MC algorithm needs to find when those events occur. We denote a random number as $\\xi$. At the beginning of each packet trajectory event, each packet is assigned a new optical depth distance to the next interaction by\n",
    "\n",
    "$$\n",
    "\\tau = -\\log(\\xi)\n",
    "$$\n",
    "\n",
    "we then compute the length of the path in physical space by dividing the optical depth by the total extinction coefficient $\\chi_t$\n",
    "\n",
    "$$\n",
    "l = \\frac{\\tau}{\\chi_t}.\n",
    "$$\n",
    "\n",
    "We can then update the position of the photon packet by\n",
    "\n",
    "$$\n",
    "\\mathbf{x} = \\mathbf{x} + l \\mathbf{\\mu}\n",
    "$$\n",
    "\n",
    "where $\\mathbf{\\mu}$ is the direction of the photon packet. We then check if the photon packet has left the medium. If it has, we record the energy of the packet and discard it. If it has not, we check if the photon packet has interacted with the medium. We do this by sampling a random number $\\xi$ and comparing it to the probability of interaction"
   ]
  },
  {
   "cell_type": "code",
   "execution_count": 1,
   "metadata": {},
   "outputs": [],
   "source": [
    "using Plots"
   ]
  },
  {
   "cell_type": "code",
   "execution_count": 2,
   "metadata": {},
   "outputs": [],
   "source": [
    "# We define the Photon Packets\n",
    "mutable struct PP\n",
    "    # position in physical space\n",
    "    pos::AbstractArray{Float64, 1}\n",
    "    # propagation direction\n",
    "    mu::AbstractArray{Float64, 1}\n",
    "    # state of the packet, False means the photon has escaped\n",
    "    absorbed::AbstractArray{Bool, 1}\n",
    "    escaped::AbstractArray{Bool, 1}\n",
    "end"
   ]
  },
  {
   "cell_type": "code",
   "execution_count": 8,
   "metadata": {},
   "outputs": [
    {
     "data": {
      "text/plain": [
       "event (generic function with 1 method)"
      ]
     },
     "metadata": {},
     "output_type": "display_data"
    }
   ],
   "source": [
    "struct Params\n",
    "    # scattering coefficient\n",
    "    chi_scattering::Float64\n",
    "    # absorbtion coefficient\n",
    "    chi_absorbtion::Float64\n",
    "    # boundary of the domain\n",
    "    boundary::Float64\n",
    "    # enable scattering -> Drawing new directions\n",
    "    enable_scattering::Bool\n",
    "end\n",
    "\n",
    "function event(p::PP, params::Params)::Nothing\n",
    "\n",
    "    N = size(p.pos)[1]\n",
    "\n",
    "    # sample optical depth to next event\n",
    "    tau_to_next = -log.(rand(Float64, N))\n",
    "\n",
    "    # set chi total / opacity \n",
    "    chi = params.chi_absorbtion\n",
    "    if params.enable_scattering\n",
    "        chi += params.chi_scattering\n",
    "    end\n",
    "    \n",
    "    # Invert the optical depth to get the phyiscal distance. \n",
    "    # Note that this is an approximation, as we cannot invert the integral over chi as there is no unique solution (?)\n",
    "    l_to_next = tau_to_next ./ chi\n",
    "\n",
    "    # Decide if packets crossed boundaries\n",
    "    escaped = (p.pos .> params.boundary) .|| (p.pos .< -params.boundary)\n",
    "\n",
    "    # Decide if packets are scattered or absorbed   \n",
    "    is_absorbed = rand(N) .< (params.chi_absorbtion / (params.chi_absorbtion + params.chi_scattering))\n",
    "    \n",
    "    # Update the state of the packets\n",
    "    p.pos .+= l_to_next .* p.mu\n",
    "\n",
    "    # Scatter the packets -> Draw new propagation directions\n",
    "    if params.enable_scattering\n",
    "        p.mu = rand(Float64, N) .* .2  .- 1\n",
    "    end\n",
    "\n",
    "    # Update the state of the packets\n",
    "    p.absorbed = p.absorbed .|| (is_absorbed .&& .!p.escaped)\n",
    "    p.escaped = p.escaped .|| (escaped .&& .!p.absorbed)\n",
    "    \n",
    "    return nothing\n",
    "    \n",
    "end"
   ]
  },
  {
   "cell_type": "code",
   "execution_count": 9,
   "metadata": {},
   "outputs": [
    {
     "data": {
      "text/plain": [
       "mcrt (generic function with 1 method)"
      ]
     },
     "metadata": {},
     "output_type": "display_data"
    }
   ],
   "source": [
    "function mcrt(\n",
    "    N::Int64, \n",
    "    matter_density_profile::Function,\n",
    "    params::Params,\n",
    "    ) :: Float64\n",
    "\n",
    "\n",
    "    println(\"Initalizing packets...\")\n",
    "    radius = 1.0\n",
    "    # Initialize the packets\n",
    "    pp = PP(\n",
    "        radius .* rand(Float64, N) .^3,\n",
    "        rand(Float64, N) .* 2 .- 1,\n",
    "        zeros(Bool, N),\n",
    "        zeros(Bool, N),\n",
    "    )\n",
    "\n",
    "    println(\"Starting simulation...\")\n",
    "    # Loop over the packets\n",
    "    while !all((pp.absorbed .|| pp.escaped))\n",
    "        # println(\"P absorbed: \", sum(pp.absorbed) / N, \" P escaped: \", sum(pp.escaped) / N)\n",
    "        event(pp, params)\n",
    "    end\n",
    "\n",
    "    return sum(pp.escaped) / N\n",
    "end"
   ]
  },
  {
   "cell_type": "code",
   "execution_count": 10,
   "metadata": {},
   "outputs": [
    {
     "name": "stdout",
     "output_type": "stream",
     "text": [
      "Initalizing packets...\n",
      "Starting simulation...\n",
      "Escape probability: 0.3656\n",
      "Initalizing packets...\n",
      "Starting simulation...\n",
      "Escape probability: 0.3747\n",
      "Initalizing packets...\n",
      "Starting simulation...\n",
      "Escape probability: 0.3756\n",
      "Initalizing packets...\n",
      "Starting simulation...\n",
      "Escape probability: 0.3792\n",
      "Initalizing packets...\n",
      "Starting simulation...\n",
      "Escape probability: 0.3735\n",
      "Initalizing packets...\n",
      "Starting simulation...\n",
      "Escape probability: 0.3801\n",
      "Initalizing packets...\n",
      "Starting simulation...\n",
      "Escape probability: 0.3688\n",
      "Initalizing packets...\n",
      "Starting simulation...\n",
      "Escape probability: 0.3742\n",
      "Initalizing packets...\n",
      "Starting simulation...\n",
      "Escape probability: 0.3818\n",
      "Initalizing packets...\n",
      "Starting simulation...\n",
      "Escape probability: 0.3659\n",
      "Initalizing packets...\n",
      "Starting simulation...\n",
      "Escape probability: 0.3737\n"
     ]
    }
   ],
   "source": [
    "for i in 1:10\n",
    "    esc_prob = mcrt(\n",
    "        10000,\n",
    "        x -> 1 / (x + 1e-6)^2,\n",
    "        Params(\n",
    "            0.8,\n",
    "            0.2,\n",
    "            1.0,\n",
    "            false\n",
    "        )\n",
    "    )\n",
    "\n",
    "    println(\"Escape probability: \", esc_prob)\n",
    "end\n",
    "    \n",
    "params = Params(\n",
    "    0.8,\n",
    "    0.2,\n",
    "    1.0,\n",
    "    false\n",
    ")\n",
    "\n",
    "esc_prob = mcrt(\n",
    "    10000,\n",
    "    x -> 1 / (x + 1e-6)^2,\n",
    "    params\n",
    ")\n",
    "\n",
    "println(\"Escape probability: \", esc_prob)"
   ]
  },
  {
   "cell_type": "code",
   "execution_count": 48,
   "metadata": {},
   "outputs": [],
   "source": []
  },
  {
   "cell_type": "code",
   "execution_count": null,
   "metadata": {},
   "outputs": [],
   "source": []
  }
 ],
 "metadata": {
  "kernelspec": {
   "display_name": "Julia 1.10.3",
   "language": "julia",
   "name": "julia-1.10"
  },
  "language_info": {
   "file_extension": ".jl",
   "mimetype": "application/julia",
   "name": "julia",
   "version": "1.10.3"
  }
 },
 "nbformat": 4,
 "nbformat_minor": 2
}
